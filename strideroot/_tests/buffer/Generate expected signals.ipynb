{
 "cells": [
  {
   "cell_type": "code",
   "execution_count": null,
   "metadata": {
    "jupyter": {
     "outputs_hidden": false
    }
   },
   "outputs": [],
   "source": [
    "%pylab inline\n",
    "#import matplotlib\n",
    "import pylint"
   ]
  },
  {
   "cell_type": "code",
   "execution_count": 1,
   "metadata": {},
   "outputs": [
    {
     "ename": "NameError",
     "evalue": "name 'linspace' is not defined",
     "output_type": "error",
     "traceback": [
      "\u001b[0;31m---------------------------------------------------------------------------\u001b[0m",
      "\u001b[0;31mNameError\u001b[0m                                 Traceback (most recent call last)",
      "\u001b[0;32m<ipython-input-1-9fc80019dd8d>\u001b[0m in \u001b[0;36m<module>\u001b[0;34m\u001b[0m\n\u001b[1;32m      1\u001b[0m \u001b[0mnum_samples\u001b[0m \u001b[0;34m=\u001b[0m \u001b[0;36m44100\u001b[0m\u001b[0;34m\u001b[0m\u001b[0;34m\u001b[0m\u001b[0m\n\u001b[0;32m----> 2\u001b[0;31m \u001b[0minput1\u001b[0m \u001b[0;34m=\u001b[0m \u001b[0mlinspace\u001b[0m\u001b[0;34m(\u001b[0m\u001b[0;34m-\u001b[0m\u001b[0;36m1\u001b[0m\u001b[0;34m,\u001b[0m \u001b[0;36m1\u001b[0m\u001b[0;34m,\u001b[0m \u001b[0mnum_samples\u001b[0m\u001b[0;34m)\u001b[0m\u001b[0;34m\u001b[0m\u001b[0;34m\u001b[0m\u001b[0m\n\u001b[0m\u001b[1;32m      3\u001b[0m \u001b[0minput2\u001b[0m \u001b[0;34m=\u001b[0m \u001b[0mlinspace\u001b[0m\u001b[0;34m(\u001b[0m\u001b[0;36m1\u001b[0m\u001b[0;34m,\u001b[0m \u001b[0;34m-\u001b[0m\u001b[0;36m1\u001b[0m\u001b[0;34m,\u001b[0m \u001b[0mnum_samples\u001b[0m\u001b[0;34m)\u001b[0m\u001b[0;34m\u001b[0m\u001b[0;34m\u001b[0m\u001b[0m\n",
      "\u001b[0;31mNameError\u001b[0m: name 'linspace' is not defined"
     ]
    }
   ],
   "source": [
    "num_samples = 44100\n",
    "input1 = linspace(-1, 1, num_samples)\n",
    "input2 = linspace(1, -1, num_samples)"
   ]
  },
  {
   "cell_type": "code",
   "execution_count": 8,
   "metadata": {
    "jupyter": {
     "outputs_hidden": false
    }
   },
   "outputs": [
    {
     "data": {
      "text/plain": [
       "array([-1.        , -0.99995465, -0.99990929, -0.99986394, -0.99981859,\n",
       "       -0.99977324, -0.99972788, -0.99968253, -0.99963718, -0.99959183])"
      ]
     },
     "execution_count": 8,
     "metadata": {},
     "output_type": "execute_result"
    }
   ],
   "source": [
    "input1[:10]"
   ]
  },
  {
   "cell_type": "code",
   "execution_count": 3,
   "metadata": {
    "jupyter": {
     "outputs_hidden": false
    }
   },
   "outputs": [
    {
     "name": "stdout",
     "output_type": "stream",
     "text": [
      "use DesktopAudio version 1.0\n",
      "\n",
      "buffer Buf {\n",
      "\tsize: 4\n",
      "\trate: AudioRate\n",
      "\tdefault: 0.0\n",
      "}\n",
      "\n",
      "[1,2,3,4] >> Buf;\n",
      "\n",
      "Buf >> AudioOut[1];\n"
     ]
    }
   ],
   "source": [
    "!cat 01_basic.stride"
   ]
  },
  {
   "cell_type": "code",
   "execution_count": 4,
   "metadata": {
    "collapsed": true,
    "jupyter": {
     "outputs_hidden": true
    }
   },
   "outputs": [],
   "source": [
    "out_text = ''\n",
    "\n",
    "buf = [1, 2, 3, 4]\n",
    "counter = 0\n",
    "\n",
    "for val1, val2 in zip(input1, input2):\n",
    "    out_text += str(buf[counter]) + \"\\n0.0\\n\"\n",
    "    counter = counter + 1\n",
    "    counter = counter%4\n",
    "\n",
    "out_file = open(\"01_basic.expected\", \"w\")\n",
    "out_file.write(out_text[:-1])\n",
    "pass"
   ]
  },
  {
   "cell_type": "code",
   "execution_count": 5,
   "metadata": {
    "jupyter": {
     "outputs_hidden": false
    }
   },
   "outputs": [
    {
     "name": "stdout",
     "output_type": "stream",
     "text": [
      "use DesktopAudio version 1.0\n",
      "\n",
      "buffer Buf2 {\n",
      "\tsize: 20\n",
      "\trate: 0\n",
      "\tdefault: 0.0\n",
      "}\n",
      "signal SignalBundle [20] {}\n",
      "\n",
      "AudioIn[1] >> Buf2;\n",
      "\n",
      "Buf2 >> SignalBundle;\n",
      "\n",
      "SignalBundle[3] >> AudioOut[1];\n",
      "SignalBundle[10] >> AudioOut[2];"
     ]
    }
   ],
   "source": [
    "!cat 02_output_bundle.stride"
   ]
  },
  {
   "cell_type": "code",
   "execution_count": 9,
   "metadata": {
    "jupyter": {
     "outputs_hidden": false
    }
   },
   "outputs": [],
   "source": [
    "out_text = ''\n",
    "\n",
    "counter = 0\n",
    "\n",
    "delay1 = [0, 0] + input1[:-2].tolist()\n",
    "delay2 = [0, 0, 0, 0, 0, 0, 0, 0, 0] + input1[:-9].tolist()\n",
    "\n",
    "for val1, val2 in zip(delay1, delay2):\n",
    "    out_text += str(val1) + \"\\n\" + str(val2) + \"\\n\"\n",
    "\n",
    "out_file = open(\"02_output_bundle.expected\", \"w\")\n",
    "out_file.write(out_text[:-1])\n",
    "pass"
   ]
  },
  {
   "cell_type": "code",
   "execution_count": null,
   "metadata": {
    "collapsed": true,
    "jupyter": {
     "outputs_hidden": true
    }
   },
   "outputs": [],
   "source": []
  }
 ],
 "metadata": {
  "kernelspec": {
   "display_name": "Python 3",
   "language": "python",
   "name": "python3"
  },
  "language_info": {
   "codemirror_mode": {
    "name": "ipython",
    "version": 3
   },
   "file_extension": ".py",
   "mimetype": "text/x-python",
   "name": "python",
   "nbconvert_exporter": "python",
   "pygments_lexer": "ipython3",
   "version": "3.7.6"
  }
 },
 "nbformat": 4,
 "nbformat_minor": 4
}
