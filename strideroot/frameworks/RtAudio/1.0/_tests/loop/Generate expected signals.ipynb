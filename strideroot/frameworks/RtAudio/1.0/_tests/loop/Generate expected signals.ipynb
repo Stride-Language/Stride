{
 "cells": [
  {
   "cell_type": "code",
   "execution_count": 9,
   "metadata": {
    "collapsed": false
   },
   "outputs": [
    {
     "name": "stdout",
     "output_type": "stream",
     "text": [
      "Populating the interactive namespace from numpy and matplotlib\n"
     ]
    }
   ],
   "source": [
    "%pylab inline"
   ]
  },
  {
   "cell_type": "code",
   "execution_count": 10,
   "metadata": {
    "collapsed": true
   },
   "outputs": [],
   "source": [
    "num_samples = 44100"
   ]
  },
  {
   "cell_type": "code",
   "execution_count": 11,
   "metadata": {
    "collapsed": true
   },
   "outputs": [],
   "source": [
    "input1 = linspace(-1, 1, num_samples)\n",
    "input2 = linspace(1, -1, num_samples)"
   ]
  },
  {
   "cell_type": "code",
   "execution_count": 12,
   "metadata": {
    "collapsed": false
   },
   "outputs": [
    {
     "name": "stdout",
     "output_type": "stream",
     "text": [
      "use DesktopAudio version 1.0\r\n",
      "\r\n",
      "signal Accum {}\r\n",
      "switch ResetOuter { }\r\n",
      "signal OuterCounter { reset: ResetOuter}\r\n",
      "\r\n",
      "loop Loop {\r\n",
      "\tports: [\t\t\r\n",
      "\t]\r\n",
      "\tblocks: [\r\n",
      "\t\tsignal Counter {}\r\n",
      "\t\tswitch CounterReset {}\r\n",
      "\t]\r\n",
      "\tstreams: [\r\n",
      "\t\tAccum + 2 >> Accum;\r\n",
      "\t\tCounter + 1 >> Counter;\r\n",
      "\t\t[Counter, 10] >> Equal() >> CounterReset;\r\n",
      "\t]\r\n",
      "\tterminateWhen: CounterReset\r\n",
      "}\r\n",
      "\r\n",
      "\r\n",
      "[OuterCounter, 20] >> Equal() >> ResetOuter >> Loop(); \r\n",
      "OuterCounter + 1 >> OuterCounter;\r\n",
      "Accum >> AudioOut[1];\r\n",
      "\r\n"
     ]
    }
   ],
   "source": [
    "!cat 01_simple.stride"
   ]
  },
  {
   "cell_type": "code",
   "execution_count": 13,
   "metadata": {
    "collapsed": false
   },
   "outputs": [],
   "source": [
    "out_text = ''\n",
    "\n",
    "outercounter = 0\n",
    "counter = 0\n",
    "accum = 0\n",
    "\n",
    "for val1, val2 in zip(input1, input2):\n",
    "    if outercounter == 20:\n",
    "        for i in range(10):\n",
    "            accum += 2\n",
    "        outercounter = 0\n",
    "    outercounter += 1\n",
    "    out_text += str(accum) + \"\\n0.0\\n\"\n",
    "\n",
    "out_file = open(\"01_simple.expected\", \"w\")\n",
    "out_file.write(out_text[:-1])\n",
    "pass"
   ]
  },
  {
   "cell_type": "code",
   "execution_count": 14,
   "metadata": {
    "collapsed": false
   },
   "outputs": [
    {
     "name": "stdout",
     "output_type": "stream",
     "text": [
      "use DesktopAudio version 1.0\r\n",
      "\r\n",
      "signal Accum {}\r\n",
      "switch ResetOuter { }\r\n",
      "signal OuterCounter { reset: ResetOuter}\r\n",
      "\r\n",
      "module LoopModule {\r\n",
      "\tports: [\r\n",
      "\t\tmainOutputPort OutputPort { block: Output }\r\n",
      "\t]\r\n",
      "\tblocks:  [\r\n",
      "\t\tsignal Accumulator { default: 0}\r\n",
      "\t\tloop Accumulate {\r\n",
      "\t\t\tblocks: [\r\n",
      "\t\t\t\tsignal Counter {default: 0}\r\n",
      "\t\t\t\tswitch CounterReset {}\r\n",
      "\t\t\t]\r\n",
      "\t\t\tstreams: [\r\n",
      "\t\t\t\tAccumulator + 1.5 >> Accumulator;\r\n",
      "\t\t\t\tCounter + 1 >> Counter;\r\n",
      "\t\t\t\t[Counter, 10] >> Equal() >> CounterReset;\r\n",
      "\t\t\t]\r\n",
      "\t\t\tterminateWhen: CounterReset\r\n",
      "\t\t}\r\n",
      "\t]\r\n",
      "\tstreams: [\r\n",
      "\t\ton >> Accumulate();\r\n",
      "\t\tAccumulator >> Output;\r\n",
      "\t]\r\n",
      "}\r\n",
      "\r\n",
      "LoopModule() >> AudioOut[1];\r\n",
      "\r\n"
     ]
    }
   ],
   "source": [
    "!cat 02_loop_in_module.stride"
   ]
  },
  {
   "cell_type": "code",
   "execution_count": 15,
   "metadata": {
    "collapsed": false
   },
   "outputs": [],
   "source": [
    "out_text = ''\n",
    "\n",
    "counter = 0\n",
    "accum = 0\n",
    "\n",
    "for val1, val2 in zip(input1, input2):\n",
    "    for i in range(10):\n",
    "        accum += 1.5\n",
    "    out_text += str(accum) + \"\\n0.0\\n\"\n",
    "\n",
    "out_file = open(\"02_loop_in_module.expected\", \"w\")\n",
    "out_file.write(out_text[:-1])\n",
    "pass"
   ]
  },
  {
   "cell_type": "code",
   "execution_count": 16,
   "metadata": {
    "collapsed": false
   },
   "outputs": [
    {
     "name": "stdout",
     "output_type": "stream",
     "text": [
      "use DesktopAudio version 1.0\r\n",
      "\r\n",
      "signal Accum {}\r\n",
      "switch ResetOuter { }\r\n",
      "signal OuterCounter { reset: ResetOuter}\r\n",
      "\r\n",
      "module Sum {\r\n",
      "\tports: [\r\n",
      "\t\tmainOutputPort OutputPort { block: Output }\r\n",
      "\t\tmainInputPort InputPort { block: Input }\r\n",
      "\t]\r\n",
      "\tblocks:  [\r\n",
      "\t\tsignal Input[3] { domain: Output.domain }\r\n",
      "\t\tsignal Accumulator { default: 0 reset: ResetAccumulator}\r\n",
      "\t\tswitch ResetAccumulator {}\r\n",
      "\t\tsignal Counter {default: 1}\r\n",
      "\t\tloop Accumulate {\r\n",
      "\t\t\tports: [\t\r\n",
      "\t\t\t\tmainOutputPort OutputPort { block: Output }\r\n",
      "\t\t\t]\r\n",
      "\t\t\tblocks: [\r\n",
      "\t\t\t\tswitch CounterReset {}\r\n",
      "\t\t\t]\r\n",
      "\t\t\tstreams: [\r\n",
      "\t\t\t\tAccumulator + Input[Counter] >> Accumulator;\r\n",
      "\t\t\t\tCounter + 1 >> Counter;\r\n",
      "\t\t\t\t[Counter, 3] >> Greater() >> CounterReset;\r\n",
      "\t\t\t]\r\n",
      "\t\t\tterminateWhen: CounterReset\r\n",
      "\t\t}\r\n",
      "\t]\r\n",
      "\tstreams: [\r\n",
      "\t\ton >> Accumulate();\r\n",
      "\t]\r\n",
      "}\r\n",
      "\r\n",
      "[AudioIn[1], AudioIn[2], 7] >> Sum() >> Value;\r\n",
      "\r\n"
     ]
    }
   ],
   "source": [
    "!cat 03_list_input_in_module.stride"
   ]
  },
  {
   "cell_type": "code",
   "execution_count": null,
   "metadata": {
    "collapsed": true
   },
   "outputs": [],
   "source": []
  }
 ],
 "metadata": {
  "kernelspec": {
   "display_name": "Python 3",
   "language": "python",
   "name": "python3"
  },
  "language_info": {
   "codemirror_mode": {
    "name": "ipython",
    "version": 3
   },
   "file_extension": ".py",
   "mimetype": "text/x-python",
   "name": "python",
   "nbconvert_exporter": "python",
   "pygments_lexer": "ipython3",
   "version": "3.6.3"
  }
 },
 "nbformat": 4,
 "nbformat_minor": 2
}
