{
 "cells": [
  {
   "cell_type": "code",
   "execution_count": 2,
   "metadata": {},
   "outputs": [
    {
     "name": "stdout",
     "output_type": "stream",
     "text": [
      "Populating the interactive namespace from numpy and matplotlib\n"
     ]
    }
   ],
   "source": [
    "%pylab inline"
   ]
  },
  {
   "cell_type": "code",
   "execution_count": 3,
   "metadata": {},
   "outputs": [],
   "source": [
    "num_samples = 44100"
   ]
  },
  {
   "cell_type": "code",
   "execution_count": 4,
   "metadata": {},
   "outputs": [],
   "source": [
    "input1 = linspace(-1, 1, num_samples)\n",
    "input2 = linspace(1, -1, num_samples)"
   ]
  },
  {
   "cell_type": "code",
   "execution_count": 5,
   "metadata": {},
   "outputs": [
    {
     "name": "stdout",
     "output_type": "stream",
     "text": [
      "use DesktopAudio version 1.0\r\n",
      "\r\n",
      "import Generators\r\n",
      "\r\n",
      "module Test {\r\n",
      "\tports: [\r\n",
      "\t\tmainOutputPort OutputPort {\r\n",
      "\t\t\tblock: Output\r\n",
      "\t\t}\r\n",
      "\t]\r\n",
      "\tstreams: [\r\n",
      "\t\t10 >> Output;\r\n",
      "\t]\r\n",
      "}\r\n",
      "\r\n",
      "Test() >> AudioOut[1];\r\n"
     ]
    }
   ],
   "source": [
    "!cat 01_out.stride"
   ]
  },
  {
   "cell_type": "code",
   "execution_count": 6,
   "metadata": {},
   "outputs": [],
   "source": [
    "out_text = ''\n",
    "for val1, val2 in zip(input1, input2):\n",
    "    out_text += \"10.0\\n0.0\\n\"\n",
    "\n",
    "out_file = open(\"01_out.expected\", \"w\")\n",
    "out_file.write(out_text[:-1])\n",
    "pass"
   ]
  },
  {
   "cell_type": "markdown",
   "metadata": {},
   "source": [
    "02_in.stride has no meaningful output"
   ]
  },
  {
   "cell_type": "code",
   "execution_count": 7,
   "metadata": {},
   "outputs": [
    {
     "name": "stdout",
     "output_type": "stream",
     "text": [
      "use DesktopAudio version 1.0\r\n",
      "\r\n",
      "import Generators\r\n",
      "\r\n",
      "\r\n",
      "module Test {\r\n",
      "\tports: [\r\n",
      "\t\tmainOutputPort OutputPort {\r\n",
      "\t\t\tblock: Output\r\n",
      "\t\t}\r\n",
      "\t\tmainInputPort InputPort {\r\n",
      "\t\t\tblock: Input\r\n",
      "\t\t}\r\n",
      "\t]\r\n",
      "\tstreams: [\r\n",
      "\t\tInput >> Output;\r\n",
      "\t]\r\n",
      "}\r\n",
      "\r\n",
      "AudioIn[2] >> Test() >> AudioOut[1];\r\n"
     ]
    }
   ],
   "source": [
    "!cat 03_in_and_out.stride"
   ]
  },
  {
   "cell_type": "code",
   "execution_count": 8,
   "metadata": {},
   "outputs": [],
   "source": [
    "out_text = ''\n",
    "for val1, val2 in zip(input1, input2):\n",
    "    out_text += str(val2) + \"\\n0.0\\n\"\n",
    "\n",
    "out_file = open(\"03_in_and_out.expected\", \"w\")\n",
    "out_file.write(out_text[:-1])\n",
    "pass"
   ]
  },
  {
   "cell_type": "code",
   "execution_count": 9,
   "metadata": {},
   "outputs": [
    {
     "name": "stdout",
     "output_type": "stream",
     "text": [
      "use DesktopAudio version 1.0\r\n",
      "\r\n",
      "module Test {\r\n",
      "\tports: [\r\n",
      "\t\tmainOutputPort OutputPort {\r\n",
      "\t\t\tblock: Output\r\n",
      "\t\t}\r\n",
      "\t\tmainInputPort InputPort {\r\n",
      "\t\t\tblock: Input\r\n",
      "\t\t}\r\n",
      "\t\tpropertyInputPort TestPort {\r\n",
      "\t\t\tname: \"test\"\r\n",
      "\t\t\tblock: TestBlock\r\n",
      "\t\t}\r\n",
      "\t]\r\n",
      "\tstreams: [\r\n",
      "\t\tInput * TestBlock >> Output;\r\n",
      "\t\t]\r\n",
      "}\r\n",
      "\r\n",
      "AudioIn[1] >> Test(test: 0.5) >> AudioOut[1];\r\n",
      "AudioIn[2] >> Test(test: 0.25) >> AudioOut[2];\r\n"
     ]
    }
   ],
   "source": [
    "!cat 04_port.stride"
   ]
  },
  {
   "cell_type": "code",
   "execution_count": 10,
   "metadata": {},
   "outputs": [],
   "source": [
    "out_text = ''\n",
    "for val1, val2 in zip(input1, input2):\n",
    "    out_text += str(0.5 * val1) + \"\\n\" + str(0.25 * val2) +  \"\\n\"\n",
    "\n",
    "out_file = open(\"04_port.expected\", \"w\")\n",
    "out_file.write(out_text[:-1])\n",
    "pass"
   ]
  },
  {
   "cell_type": "code",
   "execution_count": 11,
   "metadata": {},
   "outputs": [],
   "source": [
    "!cp 04_port.expected 04a_port_signal.expected"
   ]
  },
  {
   "cell_type": "code",
   "execution_count": 12,
   "metadata": {},
   "outputs": [],
   "source": [
    "!cp 04_port.expected 04b_port_constant.expected"
   ]
  },
  {
   "cell_type": "code",
   "execution_count": 13,
   "metadata": {},
   "outputs": [
    {
     "name": "stdout",
     "output_type": "stream",
     "text": [
      "use DesktopAudio version 1.0\r\n",
      "\r\n",
      "import Generators\r\n",
      "\r\n",
      "\r\n",
      "module Test {\r\n",
      "\tports: [\r\n",
      "\t\tmainOutputPort OutputPort {\r\n",
      "\t\t\tblock: Output\r\n",
      "\t\t}\r\n",
      "\t\tmainInputPort InputPort {\r\n",
      "\t\t\tblock: Input\r\n",
      "\t\t}\r\n",
      "\t\tpropertyInputPort TestPort {\r\n",
      "\t\t\tname: \"test\"\r\n",
      "\t\t\tblock: TestBlock\r\n",
      "\t\t}\r\n",
      "\t]\r\n",
      "\tstreams: [\r\n",
      "\t\tInput * TestBlock >> Output;\r\n",
      "\t\t]\r\n",
      "}\r\n",
      "\r\n",
      "AudioIn[1] >> Test(test: AudioIn[2]) >> AudioOut[1];\r\n"
     ]
    }
   ],
   "source": [
    "!cat 04c_port_platformbundle.stride"
   ]
  },
  {
   "cell_type": "code",
   "execution_count": 18,
   "metadata": {},
   "outputs": [],
   "source": [
    "out_text = ''\n",
    "for val1, val2 in zip(input1, input2):\n",
    "    out_text += str(val1 * val2) + \"\\n\" + str(0.0) +  \"\\n\"\n",
    "\n",
    "out_file = open(\"04c_port_platformbundle.expected\", \"w\")\n",
    "out_file.write(out_text[:-1])\n",
    "pass"
   ]
  },
  {
   "cell_type": "code",
   "execution_count": 15,
   "metadata": {},
   "outputs": [
    {
     "name": "stdout",
     "output_type": "stream",
     "text": [
      "use DesktopAudio version 1.0\r\n",
      "\r\n",
      "module Test {\r\n",
      "\tports: [\r\n",
      "\t\tmainOutputPort OutputPort {\r\n",
      "\t\t\tblock: Output\r\n",
      "\t\t}\r\n",
      "\t\tmainInputPort InputPort {\r\n",
      "\t\t\tblock: Input\r\n",
      "\t\t}\r\n",
      "\t\tpropertyInputPort TestPort {\r\n",
      "\t\t\tname: \"test\"\r\n",
      "\t\t\tblock: TestBlock\r\n",
      "\t\t}\r\n",
      "\t]\r\n",
      "\tblocks: [\r\n",
      "\t\tsignal Amp { domain: TestPort.domain }\r\n",
      "\t]\r\n",
      "\tstreams: [\r\n",
      "\t\tTestBlock * 2 >> Amp;\r\n",
      "\t\tInput * Amp >> Output;\r\n",
      "\t]\r\n",
      "}\r\n",
      "\r\n",
      "AudioIn[1] >> Test(test: AudioIn[2]) >> AudioOut[1];\r\n"
     ]
    }
   ],
   "source": [
    "!cat 05_port_domain.stride"
   ]
  },
  {
   "cell_type": "code",
   "execution_count": 19,
   "metadata": {},
   "outputs": [],
   "source": [
    "out_text = ''\n",
    "for val1, val2 in zip(input1, input2):\n",
    "    out_text += str(val1 * val2 * 2) + \"\\n\" + str(0.0) +  \"\\n\"\n",
    "\n",
    "out_file = open(\"05_port_domain.expected\", \"w\")\n",
    "out_file.write(out_text[:-1])\n",
    "pass"
   ]
  },
  {
   "cell_type": "code",
   "execution_count": 17,
   "metadata": {},
   "outputs": [
    {
     "name": "stdout",
     "output_type": "stream",
     "text": [
      "use DesktopAudio version 1.0\r\n",
      "\r\n",
      "import Generators\r\n",
      "\r\n",
      "\r\n",
      "module Test {\r\n",
      "\tports: [\r\n",
      "\t\tmainOutputPort OutputPort {\r\n",
      "\t\t\tblock: Output\r\n",
      "\t\t}\r\n",
      "\t\tmainInputPort InputPort {\r\n",
      "\t\t\tblock: Input\r\n",
      "\t\t}\r\n",
      "\t\tpropertyInputPort TestPort {\r\n",
      "\t\t\tname: \"test\"\r\n",
      "\t\t\tblock: TestBlock\r\n",
      "\t\t}\r\n",
      "\t]\r\n",
      "\tblocks: [\r\n",
      "\t\tsignal Input {domain: OutputPort.domain}\r\n",
      "\t\tsignal Output {domain: OutputPort.domain}\r\n",
      "\t\tsignal TestBlock {domain: OutputPort.domain}\r\n",
      "\t]\r\n",
      "\tstreams: [\r\n",
      "\t\tInput * TestBlock >> Output;\r\n",
      "\t\t]\r\n",
      "}\r\n",
      "\r\n",
      "signal Quarter {default: 0.25}\r\n",
      "\r\n",
      "AudioIn[1] >> Test(test: 0.5) >> AudioOut[1];\r\n",
      "AudioIn[2] >> Test(test: Quarter) >> AudioOut[2];\r\n"
     ]
    }
   ],
   "source": [
    "!cat 05a_ports_same_domain.stride"
   ]
  },
  {
   "cell_type": "code",
   "execution_count": 21,
   "metadata": {},
   "outputs": [],
   "source": [
    "out_text = ''\n",
    "for val1, val2 in zip(input1, input2):\n",
    "    out_text += str(val1 * 0.5) + \"\\n\" + str(val2* 0.25) +  \"\\n\"\n",
    "\n",
    "out_file = open(\"05a_ports_same_domain.expected\", \"w\")\n",
    "out_file.write(out_text[:-1])\n",
    "pass"
   ]
  },
  {
   "cell_type": "code",
   "execution_count": 23,
   "metadata": {},
   "outputs": [
    {
     "name": "stdout",
     "output_type": "stream",
     "text": [
      "use DesktopAudio version 1.0\r\n",
      "\r\n",
      "module Test {\r\n",
      "\tports: [\r\n",
      "\t\tmainOutputPort OutputPort {\r\n",
      "\t\t\tblock: Output\r\n",
      "\t\t}\r\n",
      "\t\tmainInputPort InputPort {\r\n",
      "\t\t\tblock: Input\r\n",
      "\t\t}\r\n",
      "\t\tpropertyInputPort TestPort {\r\n",
      "\t\t\tname: \"test\"\r\n",
      "\t\t\tblock: TestBlock\r\n",
      "\t\t\tdomain: OutputPort.domain\r\n",
      "\t\t}\r\n",
      "\t]\r\n",
      "\tblocks: [\r\n",
      "#\tAmp should be auto declared in OutputDomain\r\n",
      "\t]\r\n",
      "\tstreams: [\r\n",
      "\t\tTestBlock * 2 >> Amp;\r\n",
      "\t\tInput * Amp >> Output;\r\n",
      "\t]\r\n",
      "}\r\n",
      "\r\n",
      "AudioIn[1] >> Test(test: AudioIn[2]) >> AudioOut[1];\r\n"
     ]
    }
   ],
   "source": [
    "!cat 06_port_domain.stride"
   ]
  },
  {
   "cell_type": "code",
   "execution_count": 31,
   "metadata": {},
   "outputs": [],
   "source": [
    "!cp 05_port_domain.expected 06_port_domain.expected"
   ]
  },
  {
   "cell_type": "code",
   "execution_count": 25,
   "metadata": {},
   "outputs": [
    {
     "name": "stdout",
     "output_type": "stream",
     "text": [
      "use DesktopAudio version 1.0\r\n",
      "\r\n",
      "module Test {\r\n",
      "\tports: [\r\n",
      "\t\tmainOutputPort OutputPort {\r\n",
      "\t\t\tblock: Output\r\n",
      "\t\t}\r\n",
      "\t\tmainInputPort InputPort {\r\n",
      "\t\t\tblock: Input\r\n",
      "\t\t\tdomain: OutputPort.domain\r\n",
      "\t\t}\r\n",
      "\t\tpropertyInputPort TestPort {\r\n",
      "\t\t\tname: \"test\"\r\n",
      "\t\t\tblock: TestBlock\r\n",
      "\t\t\tdomain: OutputPort.domain\r\n",
      "\t\t}\r\n",
      "\t\tpropertyInputPort TestPort2 {\r\n",
      "\t\t\tname: \"test2\"\r\n",
      "\t\t\tblock: TestBlock2\r\n",
      "\t\t\tdomain: OutputPort.domain\r\n",
      "\t\t}\r\n",
      "\t]\r\n",
      "\tblocks: [\r\n",
      "#\t\tsignal Amp { domain: TestPort.domain }\r\n",
      "\t]\r\n",
      "\tstreams: [\r\n",
      "\t\tTestBlock * TestBlock2 >> Amp;\r\n",
      "\t\tInput * Amp >> Output;\r\n",
      "\t]\r\n",
      "}\r\n",
      "\r\n",
      "module Test2 {\r\n",
      "\tports: [\r\n",
      "\t\tpropertyInputPort TestPort2 {\r\n",
      "\t\t\tname: \"test2\"\r\n",
      "\t\t\tblock: TestBlock2\r\n",
      "\t\t\tdomain: OutputPort.domain\r\n",
      "\t\t}\r\n",
      "\t\tmainInputPort InputPort {\r\n",
      "\t\t\tblock: Input\r\n",
      "\t\t\tdomain: OutputPort.domain\r\n",
      "\t\t}\r\n",
      "\t\tpropertyInputPort TestPort {\r\n",
      "\t\t\tname: \"test\"\r\n",
      "\t\t\tblock: TestBlock\r\n",
      "\t\t\tdomain: OutputPort.domain\r\n",
      "\t\t}\r\n",
      "\t\tmainOutputPort OutputPort {\r\n",
      "\t\t\tblock: Output\r\n",
      "\t\t\tdomain: OutputPort.domain\r\n",
      "\t\t}\r\n",
      "\t]\r\n",
      "\tblocks: [\r\n",
      "#\t\tsignal Amp { domain: TestPort.domain }\r\n",
      "\t]\r\n",
      "\tstreams: [\r\n",
      "\t\tTestBlock * TestBlock2 >> Amp;\r\n",
      "\t\tInput * Amp >> Output;\r\n",
      "\t]\r\n",
      "}\r\n",
      "\r\n",
      "signal SigIn[2] { domain: AudioDomain}\r\n",
      "\r\n",
      "AudioIn >> SigIn;\r\n",
      "\r\n",
      "SigIn[1] >> Test(test: AudioIn[1] test2:AudioIn[2]) >> AudioOut[1];\r\n",
      "\r\n",
      "SigIn[2] >> Test2(test: AudioIn[1] test2:AudioIn[2]) >> AudioOut[2];\r\n"
     ]
    }
   ],
   "source": [
    "!cat 07_port_in_token_order.stride"
   ]
  },
  {
   "cell_type": "code",
   "execution_count": 26,
   "metadata": {},
   "outputs": [],
   "source": [
    "out_text = ''\n",
    "for val1, val2 in zip(input1, input2):\n",
    "    out_text += str(val1 * val2 * val1) + \"\\n\" + str(val2* val2*val1) +  \"\\n\"\n",
    "\n",
    "out_file = open(\"07_port_in_token_order.expected\", \"w\")\n",
    "out_file.write(out_text[:-1])\n",
    "pass"
   ]
  },
  {
   "cell_type": "code",
   "execution_count": 28,
   "metadata": {},
   "outputs": [
    {
     "name": "stdout",
     "output_type": "stream",
     "text": [
      "use DesktopAudio version 1.0\r\n",
      "\r\n",
      "module Test {\r\n",
      "\tports: [\r\n",
      "\t\tmainOutputPort OutputPort {\r\n",
      "\t\t\tblock: Output\r\n",
      "\t\t\tdomain: OutputPort.domain\r\n",
      "\t\t}\r\n",
      "\t\tmainInputPort InputPort {\r\n",
      "\t\t\tblock: Input\r\n",
      "\t\t\tdomain: OutputPort.domain\r\n",
      "\t\t}\r\n",
      "\t\tpropertyInputPort TestPort {\r\n",
      "\t\t\tname: \"test\"\r\n",
      "\t\t\tblock: TestBlock\r\n",
      "\t\t\tdefault: 0.8\r\n",
      "\t\t}\r\n",
      "\t]\r\n",
      "\tblocks: [\r\n",
      "\t]\r\n",
      "\tstreams: [\r\n",
      "\t\tInput * TestBlock >> Output;\r\n",
      "\t]\r\n",
      "}\r\n",
      "\r\n",
      "AudioIn[1] >> Test(test: AudioIn[2]) >> AudioOut[1];\r\n",
      "AudioIn[2] >> Test() >> AudioOut[2];\r\n"
     ]
    }
   ],
   "source": [
    "!cat 08_default_port_values.stride"
   ]
  },
  {
   "cell_type": "code",
   "execution_count": 36,
   "metadata": {},
   "outputs": [],
   "source": [
    "out_text = ''\n",
    "for val1, val2 in zip(input1, input2):\n",
    "    out_text += str(val1 * val2) + \"\\n\" + str(val2 * 0.8) +  \"\\n\"\n",
    "\n",
    "out_file = open(\"08_default_port_values.expected\", \"w\")\n",
    "out_file.write(out_text[:-1])\n",
    "pass"
   ]
  },
  {
   "cell_type": "code",
   "execution_count": 37,
   "metadata": {},
   "outputs": [
    {
     "name": "stdout",
     "output_type": "stream",
     "text": [
      "use DesktopAudio version 1.0\r\n",
      "\r\n",
      "module Test {\r\n",
      "\tports: [\r\n",
      "\t\tmainOutputPort OutputPort {\r\n",
      "\t\t\tblock: Output\r\n",
      "\t\t}\r\n",
      "\t\tmainInputPort InputPort {\r\n",
      "\t\t\tblock: Input\r\n",
      "\t\t\tdomain: OutputPort.domain\r\n",
      "\t\t}\r\n",
      "\t\tpropertyInputPort TestPort {\r\n",
      "\t\t\tname: \"test\"\r\n",
      "\t\t\tblock: TestBlock\r\n",
      "\t\t\tdefault: 1.0\r\n",
      "\t\t}\r\n",
      "\t]\r\n",
      "\tblocks: [\r\n",
      "\t\tsignal Output[2] {}\r\n",
      "\t]\r\n",
      "\tstreams: [\r\n",
      "\t\tInput * TestBlock >> Output[1];\r\n",
      "\t\tInput >> Output[2];\r\n",
      "\t]\r\n",
      "}\r\n",
      "\r\n",
      "signal SigIn[2] { domain: AudioDomain }\r\n",
      "\r\n",
      "SigIn[1] >> Test(test: SigIn[2]) >> AudioOut;\r\n"
     ]
    }
   ],
   "source": [
    "!cat 09_bundle_out.stride"
   ]
  },
  {
   "cell_type": "code",
   "execution_count": 49,
   "metadata": {},
   "outputs": [],
   "source": [
    "out_text = ''\n",
    "for val1, val2 in zip(input1, input2):\n",
    "    out_text += str(val1 * val2) + \"\\n\" + str(val1) +  \"\\n\"\n",
    "\n",
    "out_file = open(\"09_bundle_out.expected\", \"w\")\n",
    "out_file.write(out_text[:-1])\n",
    "pass"
   ]
  },
  {
   "cell_type": "code",
   "execution_count": 47,
   "metadata": {},
   "outputs": [
    {
     "name": "stdout",
     "output_type": "stream",
     "text": [
      "use DesktopAudio version 1.0\r\n",
      "\r\n",
      "module Test {\r\n",
      "\tports: [\r\n",
      "\t\tmainOutputPort OutputPort {\r\n",
      "\t\t\tblock: Output\r\n",
      "\t\t}\r\n",
      "\t\tmainInputPort InputPort {\r\n",
      "\t\t\tblock: Input\r\n",
      "\t\t}\r\n",
      "\t]\r\n",
      "\tblocks: [\r\n",
      "\t\tsignal Input[2] {}\r\n",
      "\t\tsignal Output[2] {}\r\n",
      "\t]\r\n",
      "\tstreams: [\r\n",
      "\t\tInput[1] >> Output[1];\r\n",
      "\t\tInput[1] + Input[2] >> Output[2];\r\n",
      "\t]\r\n",
      "}\r\n",
      "\r\n",
      "signal SigIn[2] { rate: AudioRate domain: AudioDomain }\r\n",
      "signal OutA[2] { rate: AudioRate domain: AudioDomain }\r\n",
      "signal OutB[2] { rate: AudioRate domain: AudioDomain }\r\n",
      "\r\n",
      "AudioIn >> SigIn;\r\n",
      "\r\n",
      "SigIn >> Test() >> OutA;\r\n",
      "[SigIn[2], SigIn[1]] >> Test() >> OutB;\r\n",
      "OutA[2] + OutB[1] >> AudioOut[1];\r\n",
      "OutA[1] + OutB[2] >> AudioOut[2];\r\n"
     ]
    }
   ],
   "source": [
    "!cat 10_bundle_in.stride"
   ]
  },
  {
   "cell_type": "code",
   "execution_count": 48,
   "metadata": {},
   "outputs": [],
   "source": [
    "out_text = ''\n",
    "for val1, val2 in zip(input1, input2):\n",
    "    out_text += str(val1 + val2 + val2) + \"\\n\" + str(val1 + val1 + val2) +  \"\\n\"\n",
    "\n",
    "out_file = open(\"10_bundle_in.expected\", \"w\")\n",
    "out_file.write(out_text[:-1])\n",
    "pass"
   ]
  },
  {
   "cell_type": "code",
   "execution_count": 15,
   "metadata": {},
   "outputs": [
    {
     "name": "stdout",
     "output_type": "stream",
     "text": [
      "use DesktopAudio version 1.0\r\n",
      "\r\n",
      "module UsedInTest {\r\n",
      "\tports: [\r\n",
      "\t\tmainOutputPort OutputPort {\r\n",
      "\t\t\tblock: Output\r\n",
      "\t\t\tdomain: OutputDomain\r\n",
      "\t\t}\r\n",
      "\t\tmainInputPort InputPort {\r\n",
      "\t\t\tblock: Input\r\n",
      "\t\t\tdomain: OutputDomain\r\n",
      "\t\t}\r\n",
      "\t]\r\n",
      "\tstreams: [\r\n",
      "\t\tInput - 1 >> Output;\r\n",
      "\t]\r\n",
      "}\r\n",
      "module Test {\r\n",
      "\tports: [\r\n",
      "\t\tmainOutputPort OutputPort {\r\n",
      "\t\t\tblock: Output\r\n",
      "\t\t\tdomain: OutputDomain\r\n",
      "\t\t}\r\n",
      "\t\tmainInputPort InputPort {\r\n",
      "\t\t\tblock: Input\r\n",
      "\t\t\tdomain: OutputDomain\r\n",
      "\t\t}\r\n",
      "\t]\r\n",
      "\tblocks: [\r\n",
      "\t]\r\n",
      "\tstreams: [\r\n",
      "\t\tInput * 2 >> UsedInTest() >> Output;\r\n",
      "\t]\r\n",
      "}\r\n",
      "\r\n",
      "AudioIn >> Test() >> AudioOut;\r\n"
     ]
    }
   ],
   "source": [
    "!cat 11_module_call_module.stride"
   ]
  },
  {
   "cell_type": "code",
   "execution_count": 16,
   "metadata": {},
   "outputs": [],
   "source": [
    "out_text = ''\n",
    "for val1, val2 in zip(input1, input2):\n",
    "    out_text += str((2.0 * val1) -  1.0) + \"\\n\" + str((2.0 * val2) - 1.0) +  \"\\n\"\n",
    "\n",
    "out_file = open(\"11_module_call_module.expected\", \"w\")\n",
    "out_file.write(out_text[:-1])\n",
    "pass"
   ]
  },
  {
   "cell_type": "code",
   "execution_count": 17,
   "metadata": {},
   "outputs": [
    {
     "name": "stdout",
     "output_type": "stream",
     "text": [
      "use DesktopAudio version 1.0\r\n",
      "\r\n",
      "module UsedInTest {\r\n",
      "\tports: [\r\n",
      "\t\tmainOutputPort OutputPort {\r\n",
      "\t\t\tblock: Output\r\n",
      "\t\t\tdomain: OutputDomain\r\n",
      "\t\t}\r\n",
      "\t\tmainInputPort InputPort {\r\n",
      "\t\t\tblock: Input\r\n",
      "\t\t\tdomain: OutputDomain\r\n",
      "\t\t}\r\n",
      "\t]\r\n",
      "\tstreams: [\r\n",
      "\t\tInput - 1 >> Output;\r\n",
      "\t]\r\n",
      "}\r\n",
      "\r\n",
      "module Test {\r\n",
      "\tports: [\r\n",
      "\t\tmainOutputPort OutputPort {\r\n",
      "\t\t\tblock: Output\r\n",
      "\t\t\tdomain: OutputDomain\r\n",
      "\t\t}\r\n",
      "\t\tmainInputPort InputPort {\r\n",
      "\t\t\tblock: Input\r\n",
      "\t\t\tdomain: OutputDomain\r\n",
      "\t\t}\r\n",
      "\t]\r\n",
      "\tstreams: [\r\n",
      "\t\tInput * 2 >> UsedInTest() >> Output;\r\n",
      "\t]\r\n",
      "}\r\n",
      "\r\n",
      "\r\n",
      "module Test2 {\r\n",
      "\tports: [\r\n",
      "\t\tmainOutputPort OutputPort {\r\n",
      "\t\t\tblock: Output\r\n",
      "\t\t\tdomain: OutputDomain\r\n",
      "\t\t}\r\n",
      "\t\tmainInputPort InputPort {\r\n",
      "\t\t\tblock: Input\r\n",
      "\t\t\tdomain: OutputDomain\r\n",
      "\t\t}\r\n",
      "\t]\r\n",
      "\tstreams: [\r\n",
      "\t\tInput / 3 >> UsedInTest() >> Output;\r\n",
      "\t]\r\n",
      "}\r\n",
      "\r\n",
      "\r\n",
      "AudioIn >> Test() >>  Test2() >>AudioOut;\r\n"
     ]
    }
   ],
   "source": [
    "!cat 12_called_multiple_times.stride"
   ]
  },
  {
   "cell_type": "code",
   "execution_count": 18,
   "metadata": {},
   "outputs": [],
   "source": [
    "out_text = ''\n",
    "\n",
    "def process(inval):\n",
    "    return (((inval * 2) - 1)/3) - 1\n",
    "    \n",
    "for val1, val2 in zip(input1, input2):\n",
    "    out_text += str(process(val1)) + \"\\n\" + str(process(val2)) +  \"\\n\"\n",
    "\n",
    "out_file = open(\"12_called_multiple_times.expected\", \"w\")\n",
    "out_file.write(out_text[:-1])\n",
    "pass"
   ]
  },
  {
   "cell_type": "code",
   "execution_count": 19,
   "metadata": {},
   "outputs": [
    {
     "name": "stdout",
     "output_type": "stream",
     "text": [
      "use DesktopAudio version 1.0\r\n",
      "\r\n",
      "module UsedInTest {\r\n",
      "\tports: [\r\n",
      "\t\tmainOutputPort OutputPort {\r\n",
      "\t\t\tblock: Output\r\n",
      "\t\t\tdomain: OutputDomain\r\n",
      "\t\t}\r\n",
      "\t\tmainInputPort InputPort {\r\n",
      "\t\t\tblock: Input\r\n",
      "\t\t\tdomain: OutputDomain\r\n",
      "\t\t}\r\n",
      "\t]\r\n",
      "\tstreams: [\r\n",
      "\t\tInput - 1 >> Output;\r\n",
      "\t]\r\n",
      "}\r\n",
      "\r\n",
      "module Test {\r\n",
      "\tports: [\r\n",
      "\t\tmainOutputPort OutputPort {\r\n",
      "\t\t\tblock: Output\r\n",
      "\t\t\tdomain: OutputDomain\r\n",
      "\t\t}\r\n",
      "\t\tmainInputPort InputPort {\r\n",
      "\t\t\tblock: Input\r\n",
      "\t\t\tdomain: OutputDomain\r\n",
      "\t\t}\r\n",
      "\t]\r\n",
      "\tstreams: [\r\n",
      "\t\tInput * 2 >> UsedInTest() >> UsedInTest2() >> UsedInTest3() >> Output;\r\n",
      "\t]\r\n",
      "}\r\n",
      "\r\n",
      "module UsedInTest2 {\r\n",
      "\tports: [\r\n",
      "\t\tmainOutputPort OutputPort {\r\n",
      "\t\t\tblock: Output\r\n",
      "\t\t\tdomain: OutputDomain\r\n",
      "\t\t}\r\n",
      "\t\tmainInputPort InputPort {\r\n",
      "\t\t\tblock: Input\r\n",
      "\t\t\tdomain: OutputDomain\r\n",
      "\t\t}\r\n",
      "\t]\r\n",
      "\tstreams: [\r\n",
      "\t\tInput + 2 >> Output;\r\n",
      "\t]\r\n",
      "}\r\n",
      "\r\n",
      "module Test2 {\r\n",
      "\tports: [\r\n",
      "\t\tmainOutputPort OutputPort {\r\n",
      "\t\t\tblock: Output\r\n",
      "\t\t\tdomain: OutputDomain\r\n",
      "\t\t}\r\n",
      "\t\tmainInputPort InputPort {\r\n",
      "\t\t\tblock: Input\r\n",
      "\t\t\tdomain: OutputDomain\r\n",
      "\t\t}\r\n",
      "\t]\r\n",
      "\tstreams: [\r\n",
      "\t\tInput / 3 >> UsedInTest() >> UsedInTest2() >> UsedInTest3() >> Output;\r\n",
      "\t]\r\n",
      "}\r\n",
      "\r\n",
      "module UsedInTest3 {\r\n",
      "\tports: [\r\n",
      "\t\tmainOutputPort OutputPort {\r\n",
      "\t\t\tblock: Output\r\n",
      "\t\t\tdomain: OutputDomain\r\n",
      "\t\t}\r\n",
      "\t\tmainInputPort InputPort {\r\n",
      "\t\t\tblock: Input\r\n",
      "\t\t\tdomain: OutputDomain\r\n",
      "\t\t}\r\n",
      "\t]\r\n",
      "\tstreams: [\r\n",
      "\t\tInput - 3 >> Output;\r\n",
      "\t]\r\n",
      "}\r\n",
      "\r\n",
      "AudioIn >> Test() >> Test2() >>AudioOut;\r\n"
     ]
    }
   ],
   "source": [
    "!cat 13_dependencies.stride"
   ]
  },
  {
   "cell_type": "code",
   "execution_count": 20,
   "metadata": {
    "collapsed": true
   },
   "outputs": [],
   "source": [
    "out_text = ''\n",
    "\n",
    "def process(inval):\n",
    "    return (((inval * 2) - 1 + 2 - 3)/3) -1 + 2 -3 \n",
    "    \n",
    "for val1, val2 in zip(input1, input2):\n",
    "    out_text += str(process(val1)) + \"\\n\" + str(process(val2)) +  \"\\n\"\n",
    "\n",
    "out_file = open(\"13_dependencies.expected\", \"w\")\n",
    "out_file.write(out_text[:-1])\n",
    "pass"
   ]
  },
  {
   "cell_type": "code",
   "execution_count": 50,
   "metadata": {},
   "outputs": [
    {
     "name": "stdout",
     "output_type": "stream",
     "text": [
      "use DesktopAudio version 1.0\r\n",
      "\r\n",
      "module TestSwitch {\r\n",
      "\tports: [\r\n",
      "\t\tmainInputPort InputPort {\r\n",
      "\t\t\tblock: Input\r\n",
      "\t\t}\r\n",
      "\t\tmainOutputPort OutputPort {\r\n",
      "\t\t\tblock: Output\r\n",
      "\t\t}\r\n",
      "\t\tpropertyInputPort UnusedPort {\r\n",
      "\t\t\tname: \"unused\"\r\n",
      "\t\t\tblock: Unused\r\n",
      "\t\t}\r\n",
      "\t]\r\n",
      "\tblocks: [\r\n",
      "\t\tsignal Counter {} # Should not be declared or used\r\n",
      "\t\tsignal Input {domain: OutputPort.domain}\r\n",
      "\t]\r\n",
      "\tstreams: [\r\n",
      "\t\tInput >> Output;\r\n",
      "\t]\r\n",
      "\t\r\n",
      "}\r\n",
      "\r\n",
      "signal UnusedInside {}\r\n",
      "\r\n",
      "AudioIn[1]\r\n",
      ">> TestSwitch (unused: Reset)\r\n",
      ">> AudioOut[1];\r\n"
     ]
    }
   ],
   "source": [
    "!cat 14_unused_port_block.stride"
   ]
  },
  {
   "cell_type": "code",
   "execution_count": 51,
   "metadata": {},
   "outputs": [],
   "source": [
    "out_text = ''\n",
    "\n",
    "for val1, val2 in zip(input1, input2):\n",
    "    out_text += str(val1) + \"\\n\" + str(0.0) +  \"\\n\"\n",
    "\n",
    "out_file = open(\"14_unused_port_block.expected\", \"w\")\n",
    "out_file.write(out_text[:-1])\n",
    "pass"
   ]
  },
  {
   "cell_type": "code",
   "execution_count": 53,
   "metadata": {},
   "outputs": [
    {
     "name": "stdout",
     "output_type": "stream",
     "text": [
      "use DesktopAudio version 1.0\r\n",
      "\r\n",
      "import Generators\r\n",
      "\r\n",
      "AudioIn[1] >> Level(gain: 0.3) >> AudioOut[1];"
     ]
    }
   ],
   "source": [
    "!cat 15_library_module.stride"
   ]
  },
  {
   "cell_type": "code",
   "execution_count": 54,
   "metadata": {},
   "outputs": [],
   "source": [
    "out_text = ''\n",
    "\n",
    "value = 0\n",
    "\n",
    "for val1, val2 in zip(input1, input2):\n",
    "    out_text += str(val1* 0.3) + \"\\n0.0\\n\"\n",
    "\n",
    "out_file = open(\"15_library_module.expected\", \"w\")\n",
    "out_file.write(out_text[:-1])\n",
    "pass"
   ]
  },
  {
   "cell_type": "code",
   "execution_count": 55,
   "metadata": {},
   "outputs": [
    {
     "name": "stdout",
     "output_type": "stream",
     "text": [
      "use DesktopAudio version 1.0\r\n",
      "\r\n",
      "import Generators\r\n",
      "\r\n",
      "AudioIn[1] >> Sin() >> AudioOut[1];"
     ]
    }
   ],
   "source": [
    "!cat 16_platform_module.stride"
   ]
  },
  {
   "cell_type": "code",
   "execution_count": 56,
   "metadata": {},
   "outputs": [],
   "source": [
    "out_text = ''\n",
    "  \n",
    "for val1, val2 in zip(input1, input2):\n",
    "    out_text += str(sin(val1)) + \"\\n0.0\\n\"\n",
    "\n",
    "out_file = open(\"16_platform_module.expected\", \"w\")\n",
    "out_file.write(out_text[:-1])\n",
    "pass"
   ]
  },
  {
   "cell_type": "code",
   "execution_count": null,
   "metadata": {},
   "outputs": [],
   "source": []
  }
 ],
 "metadata": {
  "kernelspec": {
   "display_name": "Python 3",
   "language": "python",
   "name": "python3"
  },
  "language_info": {
   "codemirror_mode": {
    "name": "ipython",
    "version": 3
   },
   "file_extension": ".py",
   "mimetype": "text/x-python",
   "name": "python",
   "nbconvert_exporter": "python",
   "pygments_lexer": "ipython3",
   "version": "3.6.3"
  }
 },
 "nbformat": 4,
 "nbformat_minor": 2
}
