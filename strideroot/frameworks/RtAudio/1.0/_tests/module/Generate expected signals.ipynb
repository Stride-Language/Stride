{
 "cells": [
  {
   "cell_type": "code",
   "execution_count": 1,
   "metadata": {},
   "outputs": [
    {
     "name": "stdout",
     "output_type": "stream",
     "text": [
      "Populating the interactive namespace from numpy and matplotlib\n"
     ]
    }
   ],
   "source": [
    "%pylab inline"
   ]
  },
  {
   "cell_type": "code",
   "execution_count": 2,
   "metadata": {},
   "outputs": [],
   "source": [
    "num_samples = 44100"
   ]
  },
  {
   "cell_type": "code",
   "execution_count": 3,
   "metadata": {},
   "outputs": [],
   "source": [
    "input1 = linspace(-1, 1, num_samples)\n",
    "input2 = linspace(1, -1, num_samples)"
   ]
  },
  {
   "cell_type": "code",
   "execution_count": 4,
   "metadata": {},
   "outputs": [
    {
     "data": {
      "text/plain": [
       "array([-1.        , -0.99995465, -0.99990929, -0.99986394, -0.99981859,\n",
       "       -0.99977324, -0.99972788, -0.99968253, -0.99963718, -0.99959183])"
      ]
     },
     "execution_count": 4,
     "metadata": {},
     "output_type": "execute_result"
    }
   ],
   "source": [
    "input1[0:10]"
   ]
  },
  {
   "cell_type": "code",
   "execution_count": 4,
   "metadata": {},
   "outputs": [
    {
     "name": "stdout",
     "output_type": "stream",
     "text": [
      "cat: 01_out.stride: No such file or directory\r\n"
     ]
    }
   ],
   "source": [
    "!cat 01_out.stride"
   ]
  },
  {
   "cell_type": "code",
   "execution_count": 5,
   "metadata": {
    "collapsed": true
   },
   "outputs": [],
   "source": [
    "out_text = ''\n",
    "for val1, val2 in zip(input1, input2):\n",
    "    out_text += \"10.0\\n0.0\\n\"\n",
    "\n",
    "out_file = open(\"01_out.expected\", \"w\")\n",
    "out_file.write(out_text[:-1])\n",
    "pass"
   ]
  },
  {
   "cell_type": "markdown",
   "metadata": {},
   "source": [
    "02_in.stride has no meaningful output"
   ]
  },
  {
   "cell_type": "code",
   "execution_count": 6,
   "metadata": {},
   "outputs": [
    {
     "name": "stdout",
     "output_type": "stream",
     "text": [
      "cat: 03_in_and_out.stride: No such file or directory\r\n"
     ]
    }
   ],
   "source": [
    "!cat 03_in_and_out.stride"
   ]
  },
  {
   "cell_type": "code",
   "execution_count": 7,
   "metadata": {
    "collapsed": true
   },
   "outputs": [],
   "source": [
    "out_text = ''\n",
    "for val1, val2 in zip(input1, input2):\n",
    "    out_text += str(val2) + \"\\n0.0\\n\"\n",
    "\n",
    "out_file = open(\"03_in_and_out.expected\", \"w\")\n",
    "out_file.write(out_text[:-1])\n",
    "pass"
   ]
  },
  {
   "cell_type": "code",
   "execution_count": 8,
   "metadata": {},
   "outputs": [
    {
     "name": "stdout",
     "output_type": "stream",
     "text": [
      "cat: 04_port.stride: No such file or directory\r\n"
     ]
    }
   ],
   "source": [
    "!cat 04_port.stride"
   ]
  },
  {
   "cell_type": "code",
   "execution_count": 9,
   "metadata": {
    "collapsed": true
   },
   "outputs": [],
   "source": [
    "out_text = ''\n",
    "for val1, val2 in zip(input1, input2):\n",
    "    out_text += str(0.5 * val1) + \"\\n\" + str(0.25 * val2) +  \"\\n\"\n",
    "\n",
    "out_file = open(\"04_port.expected\", \"w\")\n",
    "out_file.write(out_text[:-1])\n",
    "pass"
   ]
  },
  {
   "cell_type": "code",
   "execution_count": 10,
   "metadata": {
    "collapsed": true
   },
   "outputs": [],
   "source": [
    "!cp 04_port.expected 04a_port_signal.expected"
   ]
  },
  {
   "cell_type": "code",
   "execution_count": 11,
   "metadata": {
    "collapsed": true
   },
   "outputs": [],
   "source": [
    "!cp 04_port.expected 04b_port_constant.expected"
   ]
  },
  {
   "cell_type": "code",
   "execution_count": 12,
   "metadata": {},
   "outputs": [
    {
     "name": "stdout",
     "output_type": "stream",
     "text": [
      "cat: 04c_port_platformbundle.stride: No such file or directory\r\n"
     ]
    }
   ],
   "source": [
    "!cat 04c_port_platformbundle.stride"
   ]
  },
  {
   "cell_type": "code",
   "execution_count": 13,
   "metadata": {
    "collapsed": true
   },
   "outputs": [],
   "source": [
    "out_text = ''\n",
    "for val1, val2 in zip(input1, input2):\n",
    "    out_text += str(val1 * val2) + \"\\n\" + str(0.0) +  \"\\n\"\n",
    "\n",
    "out_file = open(\"04c_port_platformbundle.expected\", \"w\")\n",
    "out_file.write(out_text[:-1])\n",
    "pass"
   ]
  },
  {
   "cell_type": "code",
   "execution_count": 14,
   "metadata": {},
   "outputs": [
    {
     "name": "stdout",
     "output_type": "stream",
     "text": [
      "cat: 05_port_domain.stride: No such file or directory\r\n"
     ]
    }
   ],
   "source": [
    "!cat 05_port_domain.stride"
   ]
  },
  {
   "cell_type": "code",
   "execution_count": 15,
   "metadata": {
    "collapsed": true
   },
   "outputs": [],
   "source": [
    "out_text = ''\n",
    "for val1, val2 in zip(input1, input2):\n",
    "    out_text += str(val1 * val2 * 2) + \"\\n\" + str(0.0) +  \"\\n\"\n",
    "\n",
    "out_file = open(\"05_port_domain.expected\", \"w\")\n",
    "out_file.write(out_text[:-1])\n",
    "pass"
   ]
  },
  {
   "cell_type": "code",
   "execution_count": 16,
   "metadata": {},
   "outputs": [
    {
     "name": "stdout",
     "output_type": "stream",
     "text": [
      "cat: 05a_ports_same_domain.stride: No such file or directory\r\n"
     ]
    }
   ],
   "source": [
    "!cat 05a_ports_same_domain.stride"
   ]
  },
  {
   "cell_type": "code",
   "execution_count": 17,
   "metadata": {
    "collapsed": true
   },
   "outputs": [],
   "source": [
    "out_text = ''\n",
    "for val1, val2 in zip(input1, input2):\n",
    "    out_text += str(val1 * 0.5) + \"\\n\" + str(val2* 0.25) +  \"\\n\"\n",
    "\n",
    "out_file = open(\"05a_ports_same_domain.expected\", \"w\")\n",
    "out_file.write(out_text[:-1])\n",
    "pass"
   ]
  },
  {
   "cell_type": "code",
   "execution_count": 18,
   "metadata": {},
   "outputs": [
    {
     "name": "stdout",
     "output_type": "stream",
     "text": [
      "cat: 06_port_domain.stride: No such file or directory\r\n"
     ]
    }
   ],
   "source": [
    "!cat 06_port_domain.stride"
   ]
  },
  {
   "cell_type": "code",
   "execution_count": 19,
   "metadata": {
    "collapsed": true
   },
   "outputs": [],
   "source": [
    "!cp 05_port_domain.expected 06_port_domain.expected"
   ]
  },
  {
   "cell_type": "code",
   "execution_count": 20,
   "metadata": {},
   "outputs": [
    {
     "name": "stdout",
     "output_type": "stream",
     "text": [
      "cat: 07_port_in_token_order.stride: No such file or directory\r\n"
     ]
    }
   ],
   "source": [
    "!cat 07_port_in_token_order.stride"
   ]
  },
  {
   "cell_type": "code",
   "execution_count": 21,
   "metadata": {
    "collapsed": true
   },
   "outputs": [],
   "source": [
    "out_text = ''\n",
    "for val1, val2 in zip(input1, input2):\n",
    "    out_text += str(val1 * val2 * val1) + \"\\n\" + str(val2* val2*val1) +  \"\\n\"\n",
    "\n",
    "out_file = open(\"07_port_in_token_order.expected\", \"w\")\n",
    "out_file.write(out_text[:-1])\n",
    "pass"
   ]
  },
  {
   "cell_type": "code",
   "execution_count": 22,
   "metadata": {},
   "outputs": [
    {
     "name": "stdout",
     "output_type": "stream",
     "text": [
      "cat: 08_default_port_values.stride: No such file or directory\r\n"
     ]
    }
   ],
   "source": [
    "!cat 08_default_port_values.stride"
   ]
  },
  {
   "cell_type": "code",
   "execution_count": 23,
   "metadata": {
    "collapsed": true
   },
   "outputs": [],
   "source": [
    "out_text = ''\n",
    "for val1, val2 in zip(input1, input2):\n",
    "    out_text += str(val1 * val2) + \"\\n\" + str(val2 * 0.8) +  \"\\n\"\n",
    "\n",
    "out_file = open(\"08_default_port_values.expected\", \"w\")\n",
    "out_file.write(out_text[:-1])\n",
    "pass"
   ]
  },
  {
   "cell_type": "code",
   "execution_count": 24,
   "metadata": {},
   "outputs": [
    {
     "name": "stdout",
     "output_type": "stream",
     "text": [
      "cat: 09_bundle_out.stride: No such file or directory\r\n"
     ]
    }
   ],
   "source": [
    "!cat 09_bundle_out.stride"
   ]
  },
  {
   "cell_type": "code",
   "execution_count": 25,
   "metadata": {
    "collapsed": true
   },
   "outputs": [],
   "source": [
    "out_text = ''\n",
    "for val1, val2 in zip(input1, input2):\n",
    "    out_text += str(val1 * val2) + \"\\n\" + str(val1) +  \"\\n\"\n",
    "\n",
    "out_file = open(\"09_bundle_out.expected\", \"w\")\n",
    "out_file.write(out_text[:-1])\n",
    "pass"
   ]
  },
  {
   "cell_type": "code",
   "execution_count": 26,
   "metadata": {},
   "outputs": [
    {
     "name": "stdout",
     "output_type": "stream",
     "text": [
      "cat: 10_bundle_in.stride: No such file or directory\r\n"
     ]
    }
   ],
   "source": [
    "!cat 10_bundle_in.stride"
   ]
  },
  {
   "cell_type": "code",
   "execution_count": 27,
   "metadata": {
    "collapsed": true
   },
   "outputs": [],
   "source": [
    "out_text = ''\n",
    "for val1, val2 in zip(input1, input2):\n",
    "    out_text += str(val1 + val2 + val2) + \"\\n\" + str(val1 + val1 + val2) +  \"\\n\"\n",
    "\n",
    "out_file = open(\"10_bundle_in.expected\", \"w\")\n",
    "out_file.write(out_text[:-1])\n",
    "pass"
   ]
  },
  {
   "cell_type": "code",
   "execution_count": 28,
   "metadata": {},
   "outputs": [
    {
     "name": "stdout",
     "output_type": "stream",
     "text": [
      "use DesktopAudio version 1.0\r\n",
      "\r\n",
      "module UsedInTest {\r\n",
      "\tports: [\r\n",
      "\t\tmainOutputPort OutputPortA {\r\n",
      "\t\t\tblock: Output\r\n",
      "\t\t}\r\n",
      "\t\tmainInputPort InputPortA {\r\n",
      "\t\t\tblock: Input\r\n",
      "\t\t}\r\n",
      "\t]\r\n",
      "\tblocks: [\r\n",
      "\t\tsignal Output {\t\t\t\r\n",
      "\t\t\tdomain:\tOutputPortA.domain\r\n",
      "\t\t}\r\n",
      "\t\tsignal Input {\t\t\t\r\n",
      "\t\t\tdomain:\tOutputPortA.domain\r\n",
      "\t\t}\r\n",
      "\t]\r\n",
      "\tstreams: [\r\n",
      "\t\tInput - 1 >> Output;\r\n",
      "\t]\r\n",
      "}\r\n",
      "\r\n",
      "module Test {\r\n",
      "\tports: [\r\n",
      "\t\tmainOutputPort OutputPort {\r\n",
      "\t\t\tblock: Output\r\n",
      "\t\t}\r\n",
      "\t\tmainInputPort InputPort {\r\n",
      "\t\t\tblock: Input\r\n",
      "\t\t}\r\n",
      "\t]\r\n",
      "\tblocks: [\r\n",
      "\t\tsignal Output {\r\n",
      "\t\t\trate: OutputPort.rate\t\t\t\r\n",
      "\t\t\tdomain:\tOutputPort.domain\r\n",
      "\t\t}\r\n",
      "\t\tsignal Input {\r\n",
      "\t\t\trate: OutputPort.rate\t\t\t\r\n",
      "\t\t\tdomain:\tOutputPort.domain\r\n",
      "\t\t}\r\n",
      "\t]\r\n",
      "\tstreams: [\r\n",
      "\t\tInput * 2 >> UsedInTest() >> Output;\r\n",
      "\t]\r\n",
      "}\r\n",
      "\r\n",
      "AudioIn >> Test() >> AudioOut;\r\n"
     ]
    }
   ],
   "source": [
    "!cat 11_module_call_module.stride"
   ]
  },
  {
   "cell_type": "code",
   "execution_count": 29,
   "metadata": {
    "collapsed": true
   },
   "outputs": [],
   "source": [
    "out_text = ''\n",
    "for val1, val2 in zip(input1, input2):\n",
    "    out_text += str((2.0 * val1) -  1.0) + \"\\n\" + str((2.0 * val2) - 1.0) +  \"\\n\"\n",
    "\n",
    "out_file = open(\"11_module_call_module.expected\", \"w\")\n",
    "out_file.write(out_text[:-1])\n",
    "pass"
   ]
  },
  {
   "cell_type": "code",
   "execution_count": 30,
   "metadata": {},
   "outputs": [
    {
     "name": "stdout",
     "output_type": "stream",
     "text": [
      "use DesktopAudio version 1.0\r\n",
      "\r\n",
      "module UsedInTest {\r\n",
      "\tports: [\r\n",
      "\t\tmainOutputPort OutputPort {\r\n",
      "\t\t\tblock: Output\r\n",
      "\t\t}\r\n",
      "\t\tmainInputPort InputPort {\r\n",
      "\t\t\tblock: Input\r\n",
      "\t\t}\r\n",
      "\t]\r\n",
      "\tblocks: [\r\n",
      "\t\tsignal Input {domain: OutputPort.domain}\r\n",
      "\t\tsignal Output {domain: OutputPort.domain}\r\n",
      "\t]\r\n",
      "\tstreams: [\r\n",
      "\t\tInput - 1 >> Output;\r\n",
      "\t]\r\n",
      "}\r\n",
      "\r\n",
      "module Test {\r\n",
      "\tports: [\r\n",
      "\t\tmainOutputPort OutputPort {\r\n",
      "\t\t\tblock: Output\r\n",
      "\t\t}\r\n",
      "\t\tmainInputPort InputPort {\r\n",
      "\t\t\tblock: Input\r\n",
      "\t\t}\r\n",
      "\t]\r\n",
      "\tblocks: [\r\n",
      "\t\tsignal Input {domain: OutputPort.domain}\r\n",
      "\t\tsignal Output {domain: OutputPort.domain}\r\n",
      "\t]\r\n",
      "\tstreams: [\r\n",
      "\t\tInput * 2 >> UsedInTest() >> Output;\r\n",
      "\t]\r\n",
      "}\r\n",
      "\r\n",
      "\r\n",
      "module Test2 {\r\n",
      "\tports: [\r\n",
      "\t\tmainOutputPort OutputPort {\r\n",
      "\t\t\tblock: Output\r\n",
      "\t\t}\r\n",
      "\t\tmainInputPort InputPort {\r\n",
      "\t\t\tblock: Input\r\n",
      "\t\t}\r\n",
      "\t]\r\n",
      "\tblocks: [\r\n",
      "\t\tsignal Input {domain: OutputPort.domain}\r\n",
      "\t\tsignal Output {domain: OutputPort.domain}\r\n",
      "\t]\r\n",
      "\tstreams: [\r\n",
      "\t\tInput / 3 >> UsedInTest() >> Output;\r\n",
      "\t]\r\n",
      "}\r\n",
      "\r\n",
      "\r\n",
      "AudioIn[1] >> Test() >>  Test2() >>AudioOut[1];\r\n",
      "AudioIn[2] >> Test() >>  Test2() >>AudioOut[2];\r\n"
     ]
    }
   ],
   "source": [
    "!cat 12_called_multiple_times.stride"
   ]
  },
  {
   "cell_type": "code",
   "execution_count": 31,
   "metadata": {
    "collapsed": true
   },
   "outputs": [],
   "source": [
    "out_text = ''\n",
    "\n",
    "def process(inval):\n",
    "    return (((inval * 2) - 1)/3) - 1\n",
    "    \n",
    "for val1, val2 in zip(input1, input2):\n",
    "    out_text += str(process(val1)) + \"\\n\" + str(process(val2)) +  \"\\n\"\n",
    "\n",
    "out_file = open(\"12_called_multiple_times.expected\", \"w\")\n",
    "out_file.write(out_text[:-1])\n",
    "pass"
   ]
  },
  {
   "cell_type": "code",
   "execution_count": 32,
   "metadata": {},
   "outputs": [
    {
     "name": "stdout",
     "output_type": "stream",
     "text": [
      "use DesktopAudio version 1.0\r\n",
      "\r\n",
      "module UsedInTest {\r\n",
      "\tports: [\r\n",
      "\t\tmainOutputPort OutputPort {\r\n",
      "\t\t\tblock: Output\r\n",
      "\t\t\tdomain: OutputPort.domain\r\n",
      "\t\t}\r\n",
      "\t\tmainInputPort InputPort {\r\n",
      "\t\t\tblock: Input\r\n",
      "\t\t\tdomain: OutputPort.domain\r\n",
      "\t\t}\r\n",
      "\t]\r\n",
      "\tstreams: [\r\n",
      "\t\tInput - 1 >> Output;\r\n",
      "\t]\r\n",
      "}\r\n",
      "\r\n",
      "module Test {\r\n",
      "\tports: [\r\n",
      "\t\tmainOutputPort OutputPort {\r\n",
      "\t\t\tblock: Output\r\n",
      "\t\t\tdomain: OutputPort.domain\r\n",
      "\t\t}\r\n",
      "\t\tmainInputPort InputPort {\r\n",
      "\t\t\tblock: Input\r\n",
      "\t\t\tdomain: OutputPort.domain\r\n",
      "\t\t}\r\n",
      "\t]\r\n",
      "\tstreams: [\r\n",
      "\t\tInput * 2 >> UsedInTest() >> UsedInTest() >> UsedInTest() >> Output;\r\n",
      "\t]\r\n",
      "}\r\n",
      "\r\n",
      "AudioIn[1] >> Test() >> AudioOut[1];\r\n",
      "AudioIn[2] >> Test() >> AudioOut[2];\r\n"
     ]
    }
   ],
   "source": [
    "!cat 13_dependencies.stride"
   ]
  },
  {
   "cell_type": "code",
   "execution_count": 40,
   "metadata": {
    "collapsed": true
   },
   "outputs": [],
   "source": [
    "out_text = ''\n",
    "\n",
    "def process(inval):\n",
    "    return (((inval * 2)  - 3))\n",
    "    \n",
    "for val1, val2 in zip(input1, input2):\n",
    "    out_text += str(process(val1)) + \"\\n\" + str(process(val2)) +  \"\\n\"\n",
    "\n",
    "out_file = open(\"13_dependencies.expected\", \"w\")\n",
    "out_file.write(out_text[:-1])\n",
    "pass"
   ]
  },
  {
   "cell_type": "code",
   "execution_count": 42,
   "metadata": {},
   "outputs": [
    {
     "name": "stdout",
     "output_type": "stream",
     "text": [
      "use DesktopAudio version 1.0\r\n",
      "\r\n",
      "module TestSwitch {\r\n",
      "\tports: [\r\n",
      "\t\tmainInputPort InputPort {\r\n",
      "\t\t\tblock: Input\r\n",
      "\t\t}\r\n",
      "\t\tmainOutputPort OutputPort {\r\n",
      "\t\t\tblock: Output\r\n",
      "\t\t}\r\n",
      "\t\tpropertyInputPort UnusedPort {\r\n",
      "\t\t\tname: \"unused\"\r\n",
      "\t\t\tblock: Unused\r\n",
      "\t\t}\r\n",
      "\t]\r\n",
      "\tblocks: [\r\n",
      "\t\tsignal Counter {} # Should not be declared or used\r\n",
      "\t\tsignal Input {domain: OutputPort.domain}\r\n",
      "\t]\r\n",
      "\tstreams: [\r\n",
      "\t\tInput >> Output;\r\n",
      "\t]\r\n",
      "\t\r\n",
      "}\r\n",
      "\r\n",
      "signal UnusedInside {}\r\n",
      "\r\n",
      "AudioIn[1]\r\n",
      ">> TestSwitch (unused: Reset)\r\n",
      ">> AudioOut[1];\r\n"
     ]
    }
   ],
   "source": [
    "!cat 14_unused_port_block.stride"
   ]
  },
  {
   "cell_type": "code",
   "execution_count": 43,
   "metadata": {
    "collapsed": true
   },
   "outputs": [],
   "source": [
    "out_text = ''\n",
    "\n",
    "for val1, val2 in zip(input1, input2):\n",
    "    out_text += str(val1) + \"\\n\" + str(0.0) +  \"\\n\"\n",
    "\n",
    "out_file = open(\"14_unused_port_block.expected\", \"w\")\n",
    "out_file.write(out_text[:-1])\n",
    "pass"
   ]
  },
  {
   "cell_type": "code",
   "execution_count": 44,
   "metadata": {},
   "outputs": [
    {
     "name": "stdout",
     "output_type": "stream",
     "text": [
      "use DesktopAudio version 1.0\r\n",
      "\r\n",
      "import Generators\r\n",
      "\r\n",
      "AudioIn[1] >> Level(gain: 0.3) >> AudioOut[1];"
     ]
    }
   ],
   "source": [
    "!cat 15_library_module.stride"
   ]
  },
  {
   "cell_type": "code",
   "execution_count": 45,
   "metadata": {
    "collapsed": true
   },
   "outputs": [],
   "source": [
    "out_text = ''\n",
    "\n",
    "value = 0\n",
    "\n",
    "for val1, val2 in zip(input1, input2):\n",
    "    out_text += str(val1* 0.3) + \"\\n0.0\\n\"\n",
    "\n",
    "out_file = open(\"15_library_module.expected\", \"w\")\n",
    "out_file.write(out_text[:-1])\n",
    "pass"
   ]
  },
  {
   "cell_type": "code",
   "execution_count": 46,
   "metadata": {},
   "outputs": [
    {
     "name": "stdout",
     "output_type": "stream",
     "text": [
      "use DesktopAudio version 1.0\r\n",
      "\r\n",
      "import Generators\r\n",
      "\r\n",
      "AudioIn[1] >> Sin() >> AudioOut[1];"
     ]
    }
   ],
   "source": [
    "!cat 16_platform_module.stride"
   ]
  },
  {
   "cell_type": "code",
   "execution_count": 47,
   "metadata": {
    "collapsed": true
   },
   "outputs": [],
   "source": [
    "out_text = ''\n",
    "  \n",
    "for val1, val2 in zip(input1, input2):\n",
    "    out_text += str(sin(val1)) + \"\\n0.0\\n\"\n",
    "\n",
    "out_file = open(\"16_platform_module.expected\", \"w\")\n",
    "out_file.write(out_text[:-1])\n",
    "pass"
   ]
  },
  {
   "cell_type": "code",
   "execution_count": 5,
   "metadata": {},
   "outputs": [
    {
     "name": "stdout",
     "output_type": "stream",
     "text": [
      "use DesktopAudio version 1.0\r\n",
      "\r\n",
      "import Generators\r\n",
      "\r\n",
      "module UsedInTest {\r\n",
      "    ports: [\r\n",
      "\t\tmainInputPort InputPort {\r\n",
      "\t\t\tblock: Input\r\n",
      "\t\t},\r\n",
      "\t\tmainOutputPort OutputPort {\r\n",
      "\t\t\tblock: Output\r\n",
      "\t\t},\r\n",
      "\t\tpropertyInputPort PortInputPort2 {\r\n",
      "\t\t\tname: \"portInput2\"\r\n",
      "\t\t\tblock: PortInput2\r\n",
      "\t\t\tdefault: 0.5\r\n",
      "\t\t\tmeta: \"The frequency of the oscillator.\"\r\n",
      "\t\t}\r\n",
      "    ]\r\n",
      "    blocks: [\r\n",
      "    ]\r\n",
      "    streams: [\r\n",
      "        PortInput2 * Input >> Output;\r\n",
      "    ]\r\n",
      "\r\n",
      "}\r\n",
      "\r\n",
      "module Test {\r\n",
      "    ports: [\r\n",
      "        mainInputPort InputPort {\r\n",
      "\t\t\tblock: Input\r\n",
      "\t\t},\r\n",
      "\t\tmainOutputPort OutputPort {\r\n",
      "\t\t\tblock: Output\r\n",
      "\t\t},\r\n",
      "\t\tpropertyInputPort PortInputPort {\r\n",
      "\t\t\tname: \"portInput\"\r\n",
      "\t\t\tblock: PortInput\r\n",
      "\t\t\tdefault: 0.4\r\n",
      "\t\t\tmeta: \"The frequency of the oscillator.\"\r\n",
      "\t\t}\r\n",
      "\t\t\r\n",
      "    ]\r\n",
      "    blocks: [\r\n",
      "    ]\r\n",
      "    streams: [\r\n",
      "        Input >> UsedInTest(portInput2: PortInput) >> Output;\r\n",
      "    ]\r\n",
      "}\r\n",
      "\r\n",
      "\r\n",
      "AudioIn[1] >> Test(portInput: AudioIn[2]) >> AudioOut[2];"
     ]
    }
   ],
   "source": [
    "!cat 17_port_to_port.stride"
   ]
  },
  {
   "cell_type": "code",
   "execution_count": 6,
   "metadata": {
    "collapsed": true
   },
   "outputs": [],
   "source": [
    "out_text = ''\n",
    "  \n",
    "for val1, val2 in zip(input1, input2):\n",
    "    out_text += \"0.0\\n\" + str(val1 * val2) + \"\\n\"\n",
    "\n",
    "out_file = open(\"17_port_to_port.expected\", \"w\")\n",
    "out_file.write(out_text[:-1])\n",
    "pass"
   ]
  },
  {
   "cell_type": "code",
   "execution_count": 7,
   "metadata": {},
   "outputs": [
    {
     "name": "stdout",
     "output_type": "stream",
     "text": [
      "use DesktopAudio version 1.0\r\n",
      "\r\n",
      "import Generators\r\n",
      "\r\n",
      "\r\n",
      "module Test {\r\n",
      "    ports: [\r\n",
      "        mainInputPort InputPort {\r\n",
      "\t\t\tblock: Input\r\n",
      "\t\t},\r\n",
      "\t\tmainOutputPort OutputPort {\r\n",
      "\t\t\tblock: Output\r\n",
      "\t\t}\r\n",
      "    ]\r\n",
      "    blocks: [\r\n",
      "    ]\r\n",
      "    streams: [\r\n",
      "        Input / OutputPort.rate >> Output;\r\n",
      "    ]\r\n",
      "}\r\n",
      "\r\n",
      "\r\n",
      "AudioIn[1] >> Test() >> AudioOut[1];"
     ]
    }
   ],
   "source": [
    "!cat 18_port_property.stride"
   ]
  },
  {
   "cell_type": "code",
   "execution_count": 8,
   "metadata": {
    "collapsed": true
   },
   "outputs": [],
   "source": [
    "out_text = ''\n",
    "  \n",
    "for val1, val2 in zip(input1, input2):\n",
    "    out_text += str(val1 /44100.0) + \"\\n0.0\\n\"\n",
    "\n",
    "out_file = open(\"18_port_property.expected\", \"w\")\n",
    "out_file.write(out_text[:-1])\n",
    "pass"
   ]
  },
  {
   "cell_type": "code",
   "execution_count": 9,
   "metadata": {},
   "outputs": [
    {
     "name": "stdout",
     "output_type": "stream",
     "text": [
      "use DesktopAudio version 1.0\r\n",
      "\r\n",
      "import Generators\r\n",
      "\r\n",
      "\r\n",
      "module Test {\r\n",
      "    ports: [\r\n",
      "        mainInputPort InputPort {\r\n",
      "\t\t\tblock: Input\r\n",
      "\t\t},\r\n",
      "\t\tmainOutputPort OutputPort {\r\n",
      "\t\t\tblock: Output\r\n",
      "\t\t}\r\n",
      "\t\t\r\n",
      "    ]\r\n",
      "    blocks: [\r\n",
      "    ]\r\n",
      "    streams: [\r\n",
      "        OutputPort.rate + (Input / OutputPort.rate) >> Output;\r\n",
      "    ]\r\n",
      "}\r\n",
      "\r\n",
      "\r\n",
      "AudioIn[1] >> Test() >> AudioOut[1];"
     ]
    }
   ],
   "source": [
    "!cat 19_port_property_multiple.stride"
   ]
  },
  {
   "cell_type": "code",
   "execution_count": 10,
   "metadata": {
    "collapsed": true
   },
   "outputs": [],
   "source": [
    "out_text = ''\n",
    "  \n",
    "for val1, val2 in zip(input1, input2):\n",
    "    out_text += str(44100.0 + (val1/44100.0)) + \"\\n0.0\\n\"\n",
    "\n",
    "out_file = open(\"19_port_property_multiple.expected\", \"w\")\n",
    "out_file.write(out_text[:-1])\n",
    "pass"
   ]
  },
  {
   "cell_type": "code",
   "execution_count": 11,
   "metadata": {},
   "outputs": [
    {
     "name": "stdout",
     "output_type": "stream",
     "text": [
      "use DesktopAudio version 1.0\r\n",
      "\r\n",
      "import Generators\r\n",
      "\r\n",
      "\r\n",
      "module InnerTest {\r\n",
      "    ports: [\r\n",
      "        mainInputPort InputPort {\r\n",
      "\t\t\tblock: Input\r\n",
      "\t\t},\r\n",
      "\t\tmainOutputPort OutputPort {\r\n",
      "\t\t\tblock: Output\r\n",
      "\t\t}\r\n",
      "\t\t\r\n",
      "    ]\r\n",
      "    blocks: [\r\n",
      "        signal Input[2] {}\r\n",
      "    ]\r\n",
      "    streams: [\r\n",
      "        Input[1] + Input[2] >> Output;\r\n",
      "    ]\r\n",
      "}\r\n",
      "\r\n",
      "module Test {\r\n",
      "    ports: [\r\n",
      "        mainInputPort InputPort {\r\n",
      "\t\t\tblock: Input\r\n",
      "\t\t},\r\n",
      "\t\tmainOutputPort OutputPort {\r\n",
      "\t\t\tblock: Output\r\n",
      "\t\t}\r\n",
      "\t\t\r\n",
      "    ]\r\n",
      "    blocks: [\r\n",
      "    ]\r\n",
      "    streams: [\r\n",
      "        [Input, 1] >> InnerTest() >> Output;\r\n",
      "    ]\r\n",
      "}\r\n",
      "\r\n",
      "\r\n",
      "AudioIn[1] >> Test() >> AudioOut[1];"
     ]
    }
   ],
   "source": [
    "!cat 20_list_input_in_module.stride"
   ]
  },
  {
   "cell_type": "code",
   "execution_count": 12,
   "metadata": {
    "collapsed": true
   },
   "outputs": [],
   "source": [
    "out_text = ''\n",
    "  \n",
    "for val1, val2 in zip(input1, input2):\n",
    "    out_text += str(val1 + 1) + \"\\n0.0\\n\"\n",
    "\n",
    "out_file = open(\"20_list_input_in_module.expected\", \"w\")\n",
    "out_file.write(out_text[:-1])\n",
    "pass"
   ]
  },
  {
   "cell_type": "code",
   "execution_count": 13,
   "metadata": {},
   "outputs": [
    {
     "name": "stdout",
     "output_type": "stream",
     "text": [
      "use DesktopAudio version 1.0\r\n",
      "\r\n",
      "module BundleIn {\r\n",
      "\tports: [\t\r\n",
      "\t\tmainInputPort InputPort { block: Input }\r\n",
      "\t\tmainOutputPort OutputPort { block: Output }\r\n",
      "\t]\r\n",
      "\tblocks: [\r\n",
      "\t\tsignal Input[2] { domain: OutputPort.domain }\r\n",
      "\t\tsignal Output { default: 0 domain: OutputPort.domain}\r\n",
      "\t]\r\n",
      "\tstreams: [\r\n",
      "\t\tInput[1] + Input[2] >> Output;\r\n",
      "\t]\r\n",
      "}\r\n",
      "\r\n",
      "AudioIn >> BundleIn() >> AudioOut[1];\r\n",
      "\r\n"
     ]
    }
   ],
   "source": [
    "!cat 21_bundle_input.stride"
   ]
  },
  {
   "cell_type": "code",
   "execution_count": 14,
   "metadata": {
    "collapsed": true
   },
   "outputs": [],
   "source": [
    "out_text = ''\n",
    "  \n",
    "for val1, val2 in zip(input1, input2):\n",
    "    out_text += str(val1 + val2) + \"\\n0.0\\n\"\n",
    "\n",
    "out_file = open(\"21_bundle_input.expected\", \"w\")\n",
    "out_file.write(out_text[:-1])\n",
    "pass"
   ]
  },
  {
   "cell_type": "code",
   "execution_count": 15,
   "metadata": {},
   "outputs": [
    {
     "name": "stdout",
     "output_type": "stream",
     "text": [
      "use DesktopAudio version 1.0\r\n",
      "\r\n",
      "module TestSwitch {\r\n",
      "\tports: [\r\n",
      "\t\tmainInputPort InputPort {\r\n",
      "\t\t\tblock: Input\r\n",
      "\t\t}\r\n",
      "\t\tmainOutputPort OutputPort {\r\n",
      "\t\t\tblock: Output\r\n",
      "\t\t}\r\n",
      "\t\tpropertyInputPort UnusedPort {\r\n",
      "\t\t\tname: \"unused\"\r\n",
      "\t\t\tblock: Unused\r\n",
      "\t\t}\r\n",
      "\t]\r\n",
      "\tblocks: [\r\n",
      "\t\tsignal Counter {}\r\n",
      "\t\tsignal Input {domain: OutputPort.domain}\r\n",
      "\t]\r\n",
      "\tstreams: [\r\n",
      "\t\tInput >> Output;\r\n",
      "\t]\r\n",
      "\t\r\n",
      "}\r\n",
      "\r\n",
      "signal UnusedInside {}\r\n",
      "\r\n",
      "AudioIn[1]\r\n",
      ">> TestSwitch (unused: Reset)\r\n",
      ">> AudioOut[1];\r\n"
     ]
    }
   ],
   "source": [
    "!cat 22_unused_port_block.stride"
   ]
  },
  {
   "cell_type": "code",
   "execution_count": 16,
   "metadata": {
    "collapsed": true
   },
   "outputs": [],
   "source": [
    "out_text = ''\n",
    "  \n",
    "for val1, val2 in zip(input1, input2):\n",
    "    out_text += str(val1) + \"\\n0.0\\n\"\n",
    "\n",
    "out_file = open(\"22_unused_port_block.expected\", \"w\")\n",
    "out_file.write(out_text[:-1])\n",
    "pass"
   ]
  },
  {
   "cell_type": "code",
   "execution_count": 18,
   "metadata": {},
   "outputs": [
    {
     "name": "stdout",
     "output_type": "stream",
     "text": [
      "use DesktopAudio version 1.0\r\n",
      "\r\n",
      "import Generators\r\n",
      "\r\n",
      "\r\n",
      "signal Value {\r\n",
      "\tdomain: AudioDomain\r\n",
      "}\r\n",
      "\r\n",
      "\r\n",
      "module Gen {\r\n",
      "\tports: [\r\n",
      "        mainOutputPort OutputPort {\r\n",
      "            block: Output\r\n",
      "        }\r\n",
      "    ]\r\n",
      "    blocks: [\r\n",
      "        signal Value {domain: OutputPort.domain}\r\n",
      "    ]\r\n",
      "    streams: [\r\n",
      "        Value + 0.001 >> Value;\r\n",
      "        Value >> Output;\r\n",
      "    ]\r\n",
      "}\r\n",
      "\r\n",
      "module Test {\r\n",
      "\tports: [\r\n",
      "\t\tmainOutputPort OutputPort {\r\n",
      "\t\t\tblock: Output\r\n",
      "\t\t}\r\n",
      "\t\tmainInputPort InputPort {\r\n",
      "\t\t\tblock: Input\r\n",
      "\t\t}\r\n",
      "\t]\r\n",
      "\tblocks: [\r\n",
      "\t\tsignal Input[2] {}\r\n",
      "\t\tsignal Output[2] {}\r\n",
      "\t]\r\n",
      "\tstreams: [\r\n",
      "\t\tInput[1] >> Output[1];\r\n",
      "\t\tInput[1] + Input[2] >> Output[2];\r\n",
      "\t]\r\n",
      "}\r\n",
      "[Gen(), 0.5] >> Test() >> AudioOut;\r\n"
     ]
    }
   ],
   "source": [
    "!cat 23_module_in_list.stride"
   ]
  },
  {
   "cell_type": "code",
   "execution_count": 29,
   "metadata": {
    "collapsed": true
   },
   "outputs": [],
   "source": [
    "out_text = ''\n",
    "\n",
    "value = 0\n",
    "  \n",
    "for val1, val2 in zip(input1, input2):\n",
    "    value = value + 0.001\n",
    "    out_text += str(value) + \"\\n\" + str(value + 0.5) + \"\\n\"\n",
    "\n",
    "out_file = open(\"23_module_in_list.expected\", \"w\")\n",
    "out_file.write(out_text[:-1])\n",
    "pass"
   ]
  },
  {
   "cell_type": "code",
   "execution_count": 20,
   "metadata": {},
   "outputs": [
    {
     "name": "stdout",
     "output_type": "stream",
     "text": [
      "use DesktopAudio version 1.0\r\n",
      "\r\n",
      "import Generators\r\n",
      "\r\n",
      "\r\n",
      "module Gen {\r\n",
      "\tports: [\r\n",
      "        mainOutputPort OutputPort {\r\n",
      "            block: Output\r\n",
      "        }\r\n",
      "    ]\r\n",
      "    blocks: [\r\n",
      "        signal Value {domain: OutputPort.domain}\r\n",
      "    ]\r\n",
      "    streams: [\r\n",
      "        Value + 0.001 >> Value;\r\n",
      "        Value >> Output;\r\n",
      "    ]\r\n",
      "}\r\n",
      "\r\n",
      "Gen() + 0.5 >> AudioOut[1];\r\n"
     ]
    }
   ],
   "source": [
    "!cat 24_module_in_expression.stride"
   ]
  },
  {
   "cell_type": "code",
   "execution_count": 30,
   "metadata": {
    "collapsed": true
   },
   "outputs": [],
   "source": [
    "out_text = ''\n",
    "\n",
    "value = 0\n",
    "  \n",
    "for val1, val2 in zip(input1, input2):\n",
    "    value = value + 0.001\n",
    "    out_text += str(value + 0.5) + \"\\n0.0\\n\"\n",
    "\n",
    "out_file = open(\"24_module_in_expression.expected\", \"w\")\n",
    "out_file.write(out_text[:-1])\n",
    "pass"
   ]
  },
  {
   "cell_type": "code",
   "execution_count": 22,
   "metadata": {},
   "outputs": [
    {
     "name": "stdout",
     "output_type": "stream",
     "text": [
      "use DesktopAudio version 1.0\r\n",
      "\r\n",
      "import Generators\r\n",
      "\r\n",
      "module Gen2 {\r\n",
      "\tports: [\r\n",
      "        mainOutputPort OutputPort {\r\n",
      "            block: Output\r\n",
      "        }\r\n",
      "        propertyInputPort PropertyPort2 {\r\n",
      "            name: \"prop2\"\r\n",
      "            block: Property2\r\n",
      "            default: 1.0\r\n",
      "        }\r\n",
      "    ]\r\n",
      "    blocks: [\r\n",
      "    ]\r\n",
      "    streams: [\r\n",
      "        Property2 >> Output;\r\n",
      "    ]\r\n",
      "}\r\n",
      "\r\n",
      "module Gen {\r\n",
      "\tports: [\r\n",
      "        mainOutputPort OutputPort {\r\n",
      "            block: Output\r\n",
      "        }\r\n",
      "        propertyInputPort PropertyPort {\r\n",
      "            name: \"prop\"\r\n",
      "            block: Property\r\n",
      "            default: 1.0\r\n",
      "        }\r\n",
      "    ]\r\n",
      "    blocks: [\r\n",
      "    ]\r\n",
      "    streams: [\r\n",
      "        Gen2(prop2: Property)>> Output;\r\n",
      "    ]\r\n",
      "}\r\n",
      "\r\n",
      "\r\n",
      "\r\n",
      "Gen(prop: AudioIn[1]) >> AudioOut[1];\r\n"
     ]
    }
   ],
   "source": [
    "!cat 25_module_port_signal.stride"
   ]
  },
  {
   "cell_type": "code",
   "execution_count": 24,
   "metadata": {
    "collapsed": true
   },
   "outputs": [],
   "source": [
    "out_text = ''\n",
    "\n",
    "value = 0\n",
    "  \n",
    "for val1, val2 in zip(input1, input2):\n",
    "\n",
    "    out_text += str(val1) + \"\\n0.0\\n\"\n",
    "\n",
    "out_file = open(\"25_module_port_signal.expected\", \"w\")\n",
    "out_file.write(out_text[:-1])\n",
    "pass"
   ]
  },
  {
   "cell_type": "code",
   "execution_count": 5,
   "metadata": {},
   "outputs": [
    {
     "name": "stdout",
     "output_type": "stream",
     "text": [
      "use DesktopAudio version 1.0\r\n",
      "\r\n",
      "import Generators\r\n",
      "\r\n",
      "module Gen {\r\n",
      "\tports: [\r\n",
      "        mainOutputPort OutputPort {\r\n",
      "            block: Output\r\n",
      "        }\r\n",
      "        propertyInputPort PropertyPort {\r\n",
      "            name: \"prop\"\r\n",
      "            block: Property\r\n",
      "            default: 1.0\r\n",
      "        }\r\n",
      "    ]\r\n",
      "    blocks: [\r\n",
      "    ]\r\n",
      "    streams: [\r\n",
      "        Property + 0.1 >> Output;\r\n",
      "    ]\r\n",
      "}\r\n",
      "\r\n",
      "\r\n",
      "\r\n",
      "Gen(prop: AudioIn[1] + 0.4) >> AudioOut[1];\r\n",
      "Gen(prop: AudioIn[1] + (AudioIn[2] / 0.4) ) >> AudioOut[2];\r\n"
     ]
    }
   ],
   "source": [
    "!cat 26_expression_in_property.stride"
   ]
  },
  {
   "cell_type": "code",
   "execution_count": 7,
   "metadata": {},
   "outputs": [],
   "source": [
    "out_text = ''\n",
    "\n",
    "value = 0\n",
    "  \n",
    "for val1, val2 in zip(input1, input2):\n",
    "    out_text += str(val1 + 0.4 + 0.1) + \"\\n\" + str(val1 + val2 + 0.15 + 0.1) + \"\\n\"\n",
    "\n",
    "out_file = open(\"26_expression_in_property.expected\", \"w\")\n",
    "out_file.write(out_text[:-1])\n",
    "pass"
   ]
  },
  {
   "cell_type": "code",
   "execution_count": 4,
   "metadata": {},
   "outputs": [
    {
     "name": "stdout",
     "output_type": "stream",
     "text": [
      "use DesktopAudio version 1.0\r\n",
      "\r\n",
      "module Last {\r\n",
      "\tports: [\r\n",
      "        mainInputPort InputPort {\r\n",
      "            block: Input\r\n",
      "        }\r\n",
      "        mainOutputPort OutputPort {\r\n",
      "            block: Output\r\n",
      "        }\r\n",
      "    ]\r\n",
      "    blocks: [\r\n",
      "        signal Input[InputPort.size] {}\r\n",
      "    ]\r\n",
      "    streams: [\r\n",
      "        Input[InputPort.size] >> Output;\r\n",
      "    ]\r\n",
      "}\r\n",
      "\r\n",
      "signal Signal {\r\n",
      "\tdefault: 0.15\r\n",
      "\tdomain: AudioDomain\r\n",
      "}\r\n",
      "\r\n",
      "signal Six[6] { default: 5.0}\r\n",
      "\r\n",
      "AudioIn >> Last() >> AudioOut[1];\r\n",
      "Six >> Last() >> AudioOut[2];\r\n"
     ]
    }
   ],
   "source": [
    "!cat 27_size_port_property.stride"
   ]
  },
  {
   "cell_type": "code",
   "execution_count": 6,
   "metadata": {},
   "outputs": [],
   "source": [
    "out_text = ''\n",
    "\n",
    "value = 0\n",
    "  \n",
    "for val1, val2 in zip(input1, input2):\n",
    "    out_text += str(val2) + \"\\n\" + str(5.0) + \"\\n\"\n",
    "\n",
    "out_file = open(\"27_size_port_property.expected\", \"w\")\n",
    "out_file.write(out_text[:-1])\n",
    "pass"
   ]
  },
  {
   "cell_type": "code",
   "execution_count": 5,
   "metadata": {},
   "outputs": [
    {
     "name": "stdout",
     "output_type": "stream",
     "text": [
      "use DesktopAudio version 1.0\r\n",
      "\r\n",
      "module UsedInTest2 {\r\n",
      "\tports: [\r\n",
      "\t\tmainOutputPort OutputPort {\r\n",
      "\t\t\tblock: Output\r\n",
      "\t\t\tdomain: OutputPort.domain\r\n",
      "\t\t}\r\n",
      "\t\tmainInputPort InputPort {\r\n",
      "\t\t\tblock: Input\r\n",
      "\t\t\tdomain: OutputPort.domain\r\n",
      "\t\t}\r\n",
      "\t]\r\n",
      "\tstreams: [\r\n",
      "\t\tInput + 2 >> Output;\r\n",
      "\t]\r\n",
      "}\r\n",
      "\r\n",
      "module UsedInTest {\r\n",
      "\tports: [\r\n",
      "\t\tmainOutputPort OutputPort {\r\n",
      "\t\t\tblock: Output\r\n",
      "\t\t\tdomain: OutputPort.domain\r\n",
      "\t\t}\r\n",
      "\t\tmainInputPort InputPort {\r\n",
      "\t\t\tblock: Input\r\n",
      "\t\t\tdomain: OutputPort.domain\r\n",
      "\t\t}\r\n",
      "\t]\r\n",
      "\tstreams: [\r\n",
      "\t\tInput - 1 >> UsedInTest2() >> Output;\r\n",
      "\t]\r\n",
      "}\r\n",
      "\r\n",
      "module Test {\r\n",
      "\tports: [\r\n",
      "\t\tmainOutputPort OutputPort {\r\n",
      "\t\t\tblock: Output\r\n",
      "\t\t\tdomain: OutputPort.domain\r\n",
      "\t\t}\r\n",
      "\t\tmainInputPort InputPort {\r\n",
      "\t\t\tblock: Input\r\n",
      "\t\t\tdomain: OutputPort.domain\r\n",
      "\t\t}\r\n",
      "\t]\r\n",
      "\tstreams: [\r\n",
      "\t\tInput * 2 >> UsedInTest() >> Output;\r\n",
      "\t]\r\n",
      "}\r\n",
      "\r\n",
      "\r\n",
      "AudioIn[1] >> Test() >> AudioOut[1];\r\n",
      "AudioIn[2] >> Test() >> AudioOut[2];\r\n"
     ]
    }
   ],
   "source": [
    "cat 28_three_levels.stride"
   ]
  },
  {
   "cell_type": "code",
   "execution_count": 12,
   "metadata": {},
   "outputs": [],
   "source": [
    "out_text = ''\n",
    "\n",
    "value = 0\n",
    "  \n",
    "for val1, val2 in zip(input1, input2):\n",
    "    val1 = val1 * 2\n",
    "    val1 = val1 + 1\n",
    "    val2 = val2 * 2\n",
    "    val2 = val2 + 1\n",
    "    out_text += str(val1) + \"\\n\" + str(val2) + \"\\n\"\n",
    "\n",
    "out_file = open(\"28_three_levels.expected\", \"w\")\n",
    "out_file.write(out_text[:-1])\n",
    "pass"
   ]
  },
  {
   "cell_type": "code",
   "execution_count": 7,
   "metadata": {},
   "outputs": [
    {
     "name": "stdout",
     "output_type": "stream",
     "text": [
      "use DesktopAudio version 1.0\r\n",
      "\r\n",
      "import Generators\r\n",
      "\r\n",
      "module ResetTest {\r\n",
      "\tports: [\r\n",
      "\t\tmainOutputPort OutputPort {\r\n",
      "\t\t\tblock: Output\r\n",
      "\t\t}\r\n",
      "\t]\r\n",
      "\tblocks: [\r\n",
      "\t\ttrigger Reset {domain: OutputPort.domain}\r\n",
      "\t\r\n",
      "\t\tsignal Value {\r\n",
      "\t\t\treset: Reset\r\n",
      "\t\t\tdefault: 1\r\n",
      "\t\t\tdomain: OutputPort.domain\r\n",
      "\t\t}\r\n",
      "\t]\r\n",
      "\tstreams: [\r\n",
      "\t\tValue >> Output;\r\n",
      "\t\tValue + 1 >> Value;\r\n",
      "\t\t[Value, 10] >> Equal() >> Reset;\r\n",
      "\t]\r\n",
      "}\r\n",
      "\r\n",
      "ResetTest() >> AudioOut[1];"
     ]
    }
   ],
   "source": [
    "cat 29_trigger_reset.stride"
   ]
  },
  {
   "cell_type": "code",
   "execution_count": 8,
   "metadata": {},
   "outputs": [],
   "source": [
    "out_text = ''\n",
    "\n",
    "value = 1\n",
    "  \n",
    "for val1, val2 in zip(input1, input2):\n",
    "    out_text += str(value) + \"\\n\" + str(0.0) + \"\\n\"\n",
    "    value += 1\n",
    "    if value == 10:\n",
    "        value = 1\n",
    "\n",
    "out_file = open(\"29_trigger_reset.expected\", \"w\")\n",
    "out_file.write(out_text[:-1])\n",
    "pass"
   ]
  },
  {
   "cell_type": "code",
   "execution_count": 9,
   "metadata": {},
   "outputs": [
    {
     "name": "stdout",
     "output_type": "stream",
     "text": [
      "use DesktopAudio version 1.0\r\n",
      "\r\n",
      "import Generators\r\n",
      "\r\n",
      "module ResetTest {\r\n",
      "\tports: [\r\n",
      "\t\tmainOutputPort OutputPort {\r\n",
      "\t\t\tblock: Output\r\n",
      "\t\t}\r\n",
      "\t]\r\n",
      "\tblocks: [\r\n",
      "\t\tswitch Reset {domain: OutputPort.domain}\r\n",
      "\t\r\n",
      "\t\tsignal Value {\r\n",
      "\t\t\treset: Reset\r\n",
      "\t\t\tdefault: 1\r\n",
      "\t\t\tdomain: OutputPort.domain\r\n",
      "\t\t}\r\n",
      "\t]\r\n",
      "\tstreams: [\r\n",
      "\t\tValue >> Output;\r\n",
      "\t\tValue + 1 >> Value;\r\n",
      "\t\t[Value, 10] >> Equal() >> Reset;\r\n",
      "\t]\r\n",
      "}\r\n",
      "\r\n",
      "ResetTest() >> AudioOut[1];"
     ]
    }
   ],
   "source": [
    "cat 30_switch_reset.stride"
   ]
  },
  {
   "cell_type": "code",
   "execution_count": 10,
   "metadata": {},
   "outputs": [],
   "source": [
    "out_text = ''\n",
    "\n",
    "value = 1\n",
    "  \n",
    "for val1, val2 in zip(input1, input2):\n",
    "    out_text += str(value) + \"\\n\" + str(0.0) + \"\\n\"\n",
    "    value += 1\n",
    "    if value == 10:\n",
    "        value = 1\n",
    "\n",
    "out_file = open(\"30_switch_reset.expected\", \"w\")\n",
    "out_file.write(out_text[:-1])\n",
    "pass"
   ]
  },
  {
   "cell_type": "code",
   "execution_count": 11,
   "metadata": {},
   "outputs": [
    {
     "name": "stdout",
     "output_type": "stream",
     "text": [
      "use DesktopAudio version 1.0\r\n",
      "\r\n",
      "import Generators\r\n",
      "\r\n",
      "\r\n",
      "module UsedInTest {\r\n",
      "    ports: [\r\n",
      "        mainInputPort InputPort {\r\n",
      "\t\t\tblock: Input\r\n",
      "\t\t},\r\n",
      "\t\tmainOutputPort OutputPort {\r\n",
      "\t\t\tblock: Output\r\n",
      "\t\t}\r\n",
      "\t\t\r\n",
      "    ]\r\n",
      "    blocks: [\r\n",
      "    ]\r\n",
      "    streams: [\r\n",
      "        InputPort.rate + (Input / InputPort.rate) >> Output;\r\n",
      "    ]\r\n",
      "}\r\n",
      "\r\n",
      "module Test {\r\n",
      "    ports: [\r\n",
      "        mainInputPort InputPort {\r\n",
      "\t\t\tblock: Input\r\n",
      "\t\t},\r\n",
      "\t\tmainOutputPort OutputPort {\r\n",
      "\t\t\tblock: Output\r\n",
      "\t\t}\r\n",
      "\t\t\r\n",
      "    ]\r\n",
      "    blocks: [\r\n",
      "    ]\r\n",
      "    streams: [\r\n",
      "        Input >> UsedInTest() >> Output;\r\n",
      "    ]\r\n",
      "}\r\n",
      "\r\n",
      "\r\n",
      "AudioIn[1] >> Test() >> AudioOut[1];"
     ]
    }
   ],
   "source": [
    "cat 31_port_property_nested.stride"
   ]
  },
  {
   "cell_type": "code",
   "execution_count": 13,
   "metadata": {},
   "outputs": [],
   "source": [
    "out_text = ''\n",
    "\n",
    "value = 1\n",
    "  \n",
    "for val1, val2 in zip(input1, input2):\n",
    "    value = 44100.0 + (val1/44100.0)\n",
    "    out_text += str(value) + \"\\n\" + str(0.0) + \"\\n\"\n",
    "    \n",
    "\n",
    "out_file = open(\"31_port_property_nested.expected\", \"w\")\n",
    "out_file.write(out_text[:-1])\n",
    "pass"
   ]
  },
  {
   "cell_type": "code",
   "execution_count": null,
   "metadata": {},
   "outputs": [],
   "source": []
  }
 ],
 "metadata": {
  "kernelspec": {
   "display_name": "Python 3",
   "language": "python",
   "name": "python3"
  },
  "language_info": {
   "codemirror_mode": {
    "name": "ipython",
    "version": 3
   },
   "file_extension": ".py",
   "mimetype": "text/x-python",
   "name": "python",
   "nbconvert_exporter": "python",
   "pygments_lexer": "ipython3",
   "version": "3.6.7"
  }
 },
 "nbformat": 4,
 "nbformat_minor": 2
}
