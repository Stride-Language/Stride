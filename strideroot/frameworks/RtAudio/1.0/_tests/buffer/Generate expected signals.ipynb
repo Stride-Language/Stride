{
 "cells": [
  {
   "cell_type": "code",
   "execution_count": 1,
   "metadata": {
    "collapsed": false
   },
   "outputs": [
    {
     "name": "stdout",
     "output_type": "stream",
     "text": [
      "Populating the interactive namespace from numpy and matplotlib\n"
     ]
    }
   ],
   "source": [
    "%pylab inline"
   ]
  },
  {
   "cell_type": "code",
   "execution_count": 2,
   "metadata": {
    "collapsed": true
   },
   "outputs": [],
   "source": [
    "num_samples = 44100\n",
    "input1 = linspace(-1, 1, num_samples)\n",
    "input2 = linspace(1, -1, num_samples)"
   ]
  },
  {
   "cell_type": "code",
   "execution_count": 8,
   "metadata": {
    "collapsed": false
   },
   "outputs": [
    {
     "data": {
      "text/plain": [
       "array([-1.        , -0.99995465, -0.99990929, -0.99986394, -0.99981859,\n",
       "       -0.99977324, -0.99972788, -0.99968253, -0.99963718, -0.99959183])"
      ]
     },
     "execution_count": 8,
     "metadata": {},
     "output_type": "execute_result"
    }
   ],
   "source": [
    "input1[:10]"
   ]
  },
  {
   "cell_type": "code",
   "execution_count": 3,
   "metadata": {
    "collapsed": false
   },
   "outputs": [
    {
     "name": "stdout",
     "output_type": "stream",
     "text": [
      "use DesktopAudio version 1.0\r\n",
      "\r\n",
      "buffer Buf {\r\n",
      "\tsize: 4\r\n",
      "\trate: AudioRate\r\n",
      "\tdefault: 0.0\r\n",
      "}\r\n",
      "\r\n",
      "[1,2,3,4] >> Buf;\r\n",
      "\r\n",
      "Buf >> AudioOut[1];\r\n"
     ]
    }
   ],
   "source": [
    "!cat 01_basic.stride"
   ]
  },
  {
   "cell_type": "code",
   "execution_count": 4,
   "metadata": {
    "collapsed": true
   },
   "outputs": [],
   "source": [
    "out_text = ''\n",
    "\n",
    "buf = [1, 2, 3, 4]\n",
    "counter = 0\n",
    "\n",
    "for val1, val2 in zip(input1, input2):\n",
    "    out_text += str(buf[counter]) + \"\\n0.0\\n\"\n",
    "    counter = counter + 1\n",
    "    counter = counter%4\n",
    "\n",
    "out_file = open(\"01_basic.expected\", \"w\")\n",
    "out_file.write(out_text[:-1])\n",
    "pass"
   ]
  },
  {
   "cell_type": "code",
   "execution_count": 5,
   "metadata": {
    "collapsed": false
   },
   "outputs": [
    {
     "name": "stdout",
     "output_type": "stream",
     "text": [
      "use DesktopAudio version 1.0\r\n",
      "\r\n",
      "buffer Buf2 {\r\n",
      "\tsize: 20\r\n",
      "\trate: 0\r\n",
      "\tdefault: 0.0\r\n",
      "}\r\n",
      "signal SignalBundle [20] {}\r\n",
      "\r\n",
      "AudioIn[1] >> Buf2;\r\n",
      "\r\n",
      "Buf2 >> SignalBundle;\r\n",
      "\r\n",
      "SignalBundle[3] >> AudioOut[1];\r\n",
      "SignalBundle[10] >> AudioOut[2];"
     ]
    }
   ],
   "source": [
    "!cat 02_output_bundle.stride"
   ]
  },
  {
   "cell_type": "code",
   "execution_count": 9,
   "metadata": {
    "collapsed": false
   },
   "outputs": [],
   "source": [
    "out_text = ''\n",
    "\n",
    "counter = 0\n",
    "\n",
    "delay1 = [0, 0] + input1[:-2].tolist()\n",
    "delay2 = [0, 0, 0, 0, 0, 0, 0, 0, 0] + input1[:-9].tolist()\n",
    "\n",
    "for val1, val2 in zip(delay1, delay2):\n",
    "    out_text += str(val1) + \"\\n\" + str(val2) + \"\\n\"\n",
    "\n",
    "out_file = open(\"02_output_bundle.expected\", \"w\")\n",
    "out_file.write(out_text[:-1])\n",
    "pass"
   ]
  },
  {
   "cell_type": "code",
   "execution_count": null,
   "metadata": {
    "collapsed": true
   },
   "outputs": [],
   "source": []
  }
 ],
 "metadata": {
  "kernelspec": {
   "display_name": "Python 3",
   "language": "python",
   "name": "python3"
  },
  "language_info": {
   "codemirror_mode": {
    "name": "ipython",
    "version": 3
   },
   "file_extension": ".py",
   "mimetype": "text/x-python",
   "name": "python",
   "nbconvert_exporter": "python",
   "pygments_lexer": "ipython3",
   "version": "3.6.3"
  }
 },
 "nbformat": 4,
 "nbformat_minor": 2
}
