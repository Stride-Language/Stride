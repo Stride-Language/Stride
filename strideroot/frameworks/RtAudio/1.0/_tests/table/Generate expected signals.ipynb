{
 "cells": [
  {
   "cell_type": "code",
   "execution_count": 1,
   "metadata": {},
   "outputs": [
    {
     "name": "stdout",
     "output_type": "stream",
     "text": [
      "Using matplotlib backend: TkAgg\n",
      "Populating the interactive namespace from numpy and matplotlib\n"
     ]
    }
   ],
   "source": [
    "%pylab\n",
    "num_samples = 44100\n",
    "input1 = linspace(-1, 1, num_samples)\n",
    "input2 = linspace(1, -1, num_samples)"
   ]
  },
  {
   "cell_type": "code",
   "execution_count": 2,
   "metadata": {},
   "outputs": [
    {
     "name": "stdout",
     "output_type": "stream",
     "text": [
      "use DesktopAudio version 1.0\r\n",
      "\r\n",
      "import Generators\r\n",
      "\r\n",
      "table SineTable {\r\n",
      "\tsize: 1024\r\n",
      "\trate: 1024\r\n",
      "\tdomain: SetupDomain\r\n",
      "\treset: none\r\n",
      "}\r\n",
      "\r\n",
      "trigger CounterReset {\r\n",
      "\tdomain: AudioDomain\r\n",
      "}\r\n",
      "\r\n",
      "signal Counter {\r\n",
      "\tdefault: 0.0\r\n",
      "\tdomain: AudioDomain\r\n",
      "\treset: CounterReset\r\n",
      "}\r\n",
      "\r\n",
      "Oscillator(frequency: 1.0) >> SineTable; \r\n",
      "\r\n",
      "Counter + 1 >> Counter;\r\n",
      "\r\n",
      "[Counter, 1024] >> Equal() >> CounterReset;\r\n",
      "\r\n",
      "SineTable[Counter] >> AudioOut[0];"
     ]
    }
   ],
   "source": [
    "cat 01_basic.stride"
   ]
  },
  {
   "cell_type": "code",
   "execution_count": 5,
   "metadata": {},
   "outputs": [],
   "source": [
    "out_text = ''\n",
    "\n",
    "phase = 0\n",
    "phaseInc = np.pi * 2.0/1024.0\n",
    "\n",
    "for val1, val2 in zip(input1, input2):\n",
    "    out_text += str(sin(phase)) + \"\\n0.0\\n\"\n",
    "    phase = phase + phaseInc\n",
    "\n",
    "out_file = open(\"01_basic.expected\", \"w\")\n",
    "out_file.write(out_text[:-1])\n",
    "pass"
   ]
  },
  {
   "cell_type": "code",
   "execution_count": null,
   "metadata": {},
   "outputs": [],
   "source": []
  }
 ],
 "metadata": {
  "kernelspec": {
   "display_name": "Python 3",
   "language": "python",
   "name": "python3"
  },
  "language_info": {
   "codemirror_mode": {
    "name": "ipython",
    "version": 2
   },
   "file_extension": ".py",
   "mimetype": "text/x-python",
   "name": "python",
   "nbconvert_exporter": "python",
   "pygments_lexer": "ipython2",
   "version": "2.7.15+"
  }
 },
 "nbformat": 4,
 "nbformat_minor": 2
}
