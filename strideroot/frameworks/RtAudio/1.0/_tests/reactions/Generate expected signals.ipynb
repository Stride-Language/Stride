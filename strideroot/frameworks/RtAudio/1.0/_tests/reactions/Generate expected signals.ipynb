{
 "cells": [
  {
   "cell_type": "code",
   "execution_count": 1,
   "metadata": {},
   "outputs": [
    {
     "name": "stdout",
     "output_type": "stream",
     "text": [
      "Populating the interactive namespace from numpy and matplotlib\n"
     ]
    }
   ],
   "source": [
    "%pylab inline\n",
    "num_samples = 44100\n",
    "input1 = linspace(-1, 1, num_samples)\n",
    "input2 = linspace(1, -1, num_samples)"
   ]
  },
  {
   "cell_type": "code",
   "execution_count": 6,
   "metadata": {},
   "outputs": [
    {
     "name": "stdout",
     "output_type": "stream",
     "text": [
      "use DesktopAudio version 1.0\r\n",
      "\r\n",
      "import Generators\r\n",
      "\r\n",
      "signal Value {\r\n",
      "    default: 0\r\n",
      "}\r\n",
      "\r\n",
      "reaction Adder {\r\n",
      "    streams: [\r\n",
      "        Value + 10 >> Value;\r\n",
      "    ]\r\n",
      "}\r\n",
      "\r\n",
      "AudioIn >> Greater() >> Adder();\r\n",
      "\r\n",
      "Value >> AudioOut[0];\r\n"
     ]
    }
   ],
   "source": [
    "!cat 01_simple_reaction.stride"
   ]
  },
  {
   "cell_type": "code",
   "execution_count": 7,
   "metadata": {},
   "outputs": [],
   "source": [
    "out_text = ''\n",
    "\n",
    "value = 0.0\n",
    "def add():\n",
    "    global value\n",
    "    value += 10\n",
    "    \n",
    "\n",
    "for val1, val2 in zip(input1, input2):\n",
    "    if val1 > val2:\n",
    "        add()\n",
    "    out_text += str(value) + \"\\n\" +\"0.0\\n\"\n",
    "\n",
    "out_file = open(\"01_simple_reaction.expected\", \"w\")\n",
    "out_file.write(out_text[:-1])\n",
    "\n",
    "pass"
   ]
  },
  {
   "cell_type": "code",
   "execution_count": 8,
   "metadata": {},
   "outputs": [
    {
     "name": "stdout",
     "output_type": "stream",
     "text": [
      "use DesktopAudio version 1.0\r\n",
      "\r\n",
      "import Generators\r\n",
      "\r\n",
      "signal Value {\r\n",
      "    default: 0\r\n",
      "}\r\n",
      "\r\n",
      "module Add10 {\r\n",
      "    ports: [\r\n",
      "\t\tmainOutputPort OutputPort {\r\n",
      "\t\t\tblock: Output\r\n",
      "\t\t\tdomain: OutputPort.domain\r\n",
      "\t\t}\r\n",
      "\t\tmainInputPort InputPort {\r\n",
      "\t\t\tblock: Input\r\n",
      "\t\t\tdomain: OutputPort.domain\r\n",
      "\t\t}\r\n",
      "    ]\r\n",
      "    streams: [\r\n",
      "        Input + 10 >> Output;\r\n",
      "    ]\r\n",
      "}\r\n",
      "\r\n",
      "reaction Adder {\r\n",
      "    streams: [\r\n",
      "        Value >> Add10() >> Value;\r\n",
      "    ]\r\n",
      "}\r\n",
      "\r\n",
      "AudioIn >> Greater() >> Adder();\r\n",
      "\r\n",
      "Value >> AudioOut[0];\r\n"
     ]
    }
   ],
   "source": [
    "!cat 02_module_in_reaction.stride"
   ]
  },
  {
   "cell_type": "code",
   "execution_count": 9,
   "metadata": {},
   "outputs": [],
   "source": [
    "out_text = ''\n",
    "\n",
    "value = 0.0\n",
    "def add():\n",
    "    global value\n",
    "    value += 10\n",
    "    \n",
    "\n",
    "for val1, val2 in zip(input1, input2):\n",
    "    if val1 > val2:\n",
    "        add()\n",
    "    out_text += str(value) + \"\\n\" +\"0.0\\n\"\n",
    "\n",
    "out_file = open(\"02_module_in_reaction.expected\", \"w\")\n",
    "out_file.write(out_text[:-1])\n",
    "\n",
    "pass"
   ]
  },
  {
   "cell_type": "code",
   "execution_count": 10,
   "metadata": {},
   "outputs": [
    {
     "name": "stdout",
     "output_type": "stream",
     "text": [
      "use DesktopAudio version 1.0\r\n",
      "\r\n",
      "reaction ConstantSwitch {\r\n",
      "\tports: [\r\n",
      "\t\tmainOutputPort OutputPort {\r\n",
      "\t\t\tblock: ReactionOutput\r\n",
      "\t\t}\r\n",
      "\t]\r\n",
      "\tstreams: [\r\n",
      "\t\t1.8 >> ReactionOutput;\r\n",
      "\t]\r\n",
      "}\r\n",
      "\r\n",
      "on >> ConstantSwitch() >> AudioOut[0];\r\n",
      "\t\r\n"
     ]
    }
   ],
   "source": [
    "cat 03_constant_switch.stride"
   ]
  },
  {
   "cell_type": "code",
   "execution_count": 11,
   "metadata": {},
   "outputs": [],
   "source": [
    "out_text = ''\n",
    "\n",
    "value = 0.0\n",
    "    \n",
    "\n",
    "for val1, val2 in zip(input1, input2):\n",
    "    out_text += str(1.8) + \"\\n\" +\"0.0\\n\"\n",
    "\n",
    "out_file = open(\"03_constant_switch.expected\", \"w\")\n",
    "out_file.write(out_text[:-1])\n",
    "\n",
    "pass"
   ]
  },
  {
   "cell_type": "code",
   "execution_count": 12,
   "metadata": {},
   "outputs": [
    {
     "name": "stdout",
     "output_type": "stream",
     "text": [
      "use DesktopAudio version 1.0\r\n",
      "\r\n",
      "module Test {\r\n",
      "\tports: [\r\n",
      "\t\tmainOutputPort OutputPort {\r\n",
      "\t\t\tblock: Output\r\n",
      "\t\t}\r\n",
      "\t]\r\n",
      "\tblocks: [\r\n",
      "\t\tsignal Counter { domain: OutputPort.domain }\r\n",
      "\t\treaction HasOuterPortProperty {\r\n",
      "\t\t\tports: [\r\n",
      "\t\t\t\tmainOutputPort OutputPort {\r\n",
      "\t\t\t\t\tblock: ReactionOutput\r\n",
      "\t\t\t\t}\r\n",
      "\t\t\t]\r\n",
      "\t\t\tstreams: [\r\n",
      "\t\t\t\tCounter + 1 >> Counter;\r\n",
      "\t\t\t\tCounter / OutputPort.rate >> ReactionOutput;\r\n",
      "\t\t\t]\r\n",
      "\t\t}\r\n",
      "\t\t\t\r\n",
      "\t]\r\n",
      "\tstreams: [\r\n",
      "\t\ton >> HasOuterPortProperty() >> Output;\r\n",
      "\t]\r\n",
      "\t\r\n",
      "}\r\n",
      "\t\r\n",
      "Test() >> AudioOut[0];\r\n"
     ]
    }
   ],
   "source": [
    "cat 04_instance_portproperties.stride"
   ]
  },
  {
   "cell_type": "code",
   "execution_count": 13,
   "metadata": {},
   "outputs": [],
   "source": [
    "out_text = ''\n",
    "\n",
    "counter = 0.0\n",
    "    \n",
    "\n",
    "for val1, val2 in zip(input1, input2):\n",
    "    counter += 1.0\n",
    "    \n",
    "    out_text += str(counter/44100.0) + \"\\n\" +\"0.0\\n\"\n",
    "\n",
    "out_file = open(\"04_instance_portproperties.expected\", \"w\")\n",
    "out_file.write(out_text[:-1])\n",
    "\n",
    "pass"
   ]
  },
  {
   "cell_type": "code",
   "execution_count": 14,
   "metadata": {},
   "outputs": [
    {
     "name": "stdout",
     "output_type": "stream",
     "text": [
      "use DesktopAudio version 1.0\r\n",
      "\r\n",
      "module Test {\r\n",
      "\tports: [\r\n",
      "\t\tmainOutputPort OutputPort {\r\n",
      "\t\t\tblock: Output\r\n",
      "\t\t}\r\n",
      "\t]\r\n",
      "\tblocks: [\r\n",
      "\t\tsignal Counter {}\r\n",
      "\t\treaction HasOuterPortProperty {\r\n",
      "\t\t\tports: [\r\n",
      "\t\t\t\tmainOutputPort OutputPort {\r\n",
      "\t\t\t\t\tblock: ReactionOutput\r\n",
      "\t\t\t\t}\r\n",
      "\t\t\t]\r\n",
      "\t\t\tstreams: [\r\n",
      "\t\t\t\tCounter + 1 >> Counter;\r\n",
      "\t\t\t\tCounter / OutputPort.rate >> ReactionOutput;\r\n",
      "\t\t\t]\r\n",
      "\t\t}\r\n",
      "\t\t\t\r\n",
      "\t]\r\n",
      "\tstreams: [\r\n",
      "\t\ton >> HasOuterPortProperty() >> Output;\r\n",
      "\t]\r\n",
      "\t\r\n",
      "}\r\n",
      "\t\r\n",
      "Test() >> AudioOut[0];\r\n"
     ]
    }
   ],
   "source": [
    "cat 05_outer_instance_portproperties.stride"
   ]
  },
  {
   "cell_type": "code",
   "execution_count": 15,
   "metadata": {},
   "outputs": [],
   "source": [
    "out_text = ''\n",
    "\n",
    "counter = 0.0\n",
    "    \n",
    "\n",
    "for val1, val2 in zip(input1, input2):\n",
    "    counter += 1.0\n",
    "    out_text += str(counter/44100.0) + \"\\n\" +\"0.0\\n\"\n",
    "\n",
    "out_file = open(\"05_outer_instance_portproperties.expected\", \"w\")\n",
    "out_file.write(out_text[:-1])\n",
    "\n",
    "pass"
   ]
  },
  {
   "cell_type": "code",
   "execution_count": 16,
   "metadata": {},
   "outputs": [
    {
     "name": "stdout",
     "output_type": "stream",
     "text": [
      "use DesktopAudio version 1.0\r\n",
      "\r\n",
      "module InReaction {\r\n",
      "    ports: [\r\n",
      "        mainOutputPort OutputPort {\r\n",
      "            block: Output\r\n",
      "        }\r\n",
      "        mainInputPort InputPort {\r\n",
      "            block: Input\r\n",
      "        }\r\n",
      "    ]\r\n",
      "\tblocks: [\r\n",
      "        reaction PassThruReaction {\r\n",
      "\t\t\tports: [\r\n",
      "\t\t\t\tmainOutputPort OutputPort {\r\n",
      "\t\t\t\t\tblock: Output\r\n",
      "\t\t\t\t}\r\n",
      "\t\t\t]\r\n",
      "            streams:    [\r\n",
      "                Input >> Output;\r\n",
      "            ]\r\n",
      "        }\r\n",
      "    ]\r\n",
      "    streams: [\r\n",
      "        on >> PassThruReaction() >> Output;\r\n",
      "    ]\r\n",
      "}\r\n",
      "\r\n",
      "\r\n",
      "AudioIn[0] >> InReaction () >> AudioOut;"
     ]
    }
   ],
   "source": [
    "cat 06_used_only_in_reaction.stride"
   ]
  },
  {
   "cell_type": "code",
   "execution_count": 17,
   "metadata": {},
   "outputs": [],
   "source": [
    "out_text = ''\n",
    "\n",
    "counter = 0.0\n",
    "    \n",
    "\n",
    "for val1, val2 in zip(input1, input2):\n",
    "    counter += 1.0\n",
    "    out_text += str(val1) + \"\\n\" + str(val1) + \"\\n\"\n",
    "\n",
    "out_file = open(\"06_used_only_in_reaction.expected\", \"w\")\n",
    "out_file.write(out_text[:-1])\n",
    "\n",
    "pass"
   ]
  },
  {
   "cell_type": "code",
   "execution_count": 18,
   "metadata": {},
   "outputs": [
    {
     "name": "stdout",
     "output_type": "stream",
     "text": [
      "cat: 07_property_port_in_reaction.stride: No such file or directory\r\n"
     ]
    }
   ],
   "source": [
    "cat 07_reaction_in_module.stride"
   ]
  },
  {
   "cell_type": "code",
   "execution_count": 21,
   "metadata": {},
   "outputs": [],
   "source": [
    "out_text = ''\n",
    "\n",
    "value = 0\n",
    "\n",
    "for val1, val2 in zip(input1, input2):\n",
    "    if val1 > 0:\n",
    "        value += 1\n",
    "    out_text += str(value) + \"\\n0.0\\n\"\n",
    "\n",
    "out_file = open(\"07_reaction_in_module.expected\", \"w\")\n",
    "out_file.write(out_text[:-1])\n",
    "\n",
    "pass"
   ]
  },
  {
   "cell_type": "code",
   "execution_count": 20,
   "metadata": {},
   "outputs": [
    {
     "name": "stdout",
     "output_type": "stream",
     "text": [
      "use DesktopAudio version 1.0\r\n",
      "\r\n",
      "module Test {\r\n",
      "\tports: [\r\n",
      "\t\tmainInputPort InputPort {\r\n",
      "\t\t\tblock: Input\t\r\n",
      "\t\t}\t\r\n",
      "\t\tmainOutputPort OutputPort {\r\n",
      "\t\t\tblock: Output\t\r\n",
      "\t\t}\r\n",
      "\t]\r\n",
      "\tblocks: [\r\n",
      "\t\tsignal Dummy {}\r\n",
      "\t\tsignal Dummy2 { domain: OutputPort.domain}\r\n",
      "\t\treaction Process {\r\n",
      "\t\t\tstreams: [\r\n",
      "\t\t\t\tDummy >> Dummy2;\r\n",
      "\t\t\t\ton >> ProcessInner();\r\n",
      "\t\t\t]\r\n",
      "\t\t}\r\n",
      "\t\treaction ProcessInner {\r\n",
      "\t\t\tstreams: [\r\n",
      "\t\t\t\tInput >> Output;\r\n",
      "\t\t\t]\r\n",
      "\t\t}\r\n",
      "\t]\r\n",
      "\tstreams: [\r\n",
      "\t\ton >> Process();\r\n",
      "\t]\r\n",
      "}\r\n",
      "\r\n",
      "AudioIn[0] >> Test() >> AudioOut[0];"
     ]
    }
   ],
   "source": [
    "cat 08_reaction_recursive_reference.stride"
   ]
  },
  {
   "cell_type": "code",
   "execution_count": null,
   "metadata": {},
   "outputs": [],
   "source": []
  },
  {
   "cell_type": "code",
   "execution_count": null,
   "metadata": {},
   "outputs": [],
   "source": []
  },
  {
   "cell_type": "code",
   "execution_count": null,
   "metadata": {},
   "outputs": [],
   "source": []
  },
  {
   "cell_type": "code",
   "execution_count": null,
   "metadata": {},
   "outputs": [],
   "source": []
  },
  {
   "cell_type": "code",
   "execution_count": null,
   "metadata": {},
   "outputs": [],
   "source": []
  },
  {
   "cell_type": "code",
   "execution_count": null,
   "metadata": {},
   "outputs": [],
   "source": []
  },
  {
   "cell_type": "code",
   "execution_count": null,
   "metadata": {},
   "outputs": [],
   "source": []
  },
  {
   "cell_type": "code",
   "execution_count": null,
   "metadata": {},
   "outputs": [],
   "source": []
  },
  {
   "cell_type": "code",
   "execution_count": null,
   "metadata": {},
   "outputs": [],
   "source": []
  }
 ],
 "metadata": {
  "kernelspec": {
   "display_name": "Python 3",
   "language": "python",
   "name": "python3"
  }
 },
 "nbformat": 4,
 "nbformat_minor": 2
}
